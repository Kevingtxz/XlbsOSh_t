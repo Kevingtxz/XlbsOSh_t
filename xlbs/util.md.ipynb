{
 "cells": [
  {
   "cell_type": "code",
   "execution_count": 1,
   "metadata": {},
   "outputs": [
    {
     "data": {
      "text/html": [
       "<style>\n",
       ".jp-mod-presentationMode {\n",
       "    --jp-notebook-padding: 0;\n",
       "}\n",
       ".jp-RenderedHTMLCommon pre code {\n",
       "    opacity: 0.25;\n",
       "}\n",
       ".jp-Placeholder-content .jp-MoreHorizIcon {\n",
       "    background-size: 32px;\n",
       "}\n",
       "</style><style>\n",
       ".jp-mod-presentationMode .jp-SideBar,\n",
       ".jp-mod-presentationMode #jp-top-panel {\n",
       "    opacity: 0.0;\n",
       "    transition: all 0.2s;\n",
       "}\n",
       ".jp-mod-presentationMode .jp-SideBar:hover,\n",
       ".jp-mod-presentationMode #jp-top-panel:hover {\n",
       "    opacity: 0.9;\n",
       "    transition: all 0.2s;\n",
       "}</style><style>\n",
       ".jp-mod-presentationMode.jp-ApplicationShell,\n",
       ".jp-mod-presentationMode .p-TabBar-content{\n",
       "    background-color: var(--jp-layout-color0);\n",
       "}\n",
       "</style><style>\n",
       ".jp-mod-presentationMode .p-DockPanel-widget,\n",
       ".jp-mod-presentationMode #jp-left-stack, \n",
       ".jp-mod-presentationMode #jp-bottom-panel{\n",
       "    border-color: transparent;\n",
       "}\n",
       ".jp-mod-presentationMode .jp-Toolbar-item,\n",
       ".jp-mod-presentationMode .jp-Toolbar, \n",
       ".jp-mod-presentationMode #jp-bottom-panel {\n",
       "    opacity: 0.1;\n",
       "    transition: all 0.2s;\n",
       "}\n",
       ".jp-mod-presentationMode .jp-Toolbar-item:hover,\n",
       ".jp-mod-presentationMode .jp-Toolbar:hover, \n",
       ".jp-mod-presentationMode #jp-bottom-panel:hover {\n",
       "    opacity: 0.9;\n",
       "    transition: all 0.2s;\n",
       "}\n",
       "\n",
       ".jp-mod-presentationMode .jp-InputArea {\n",
       "    flex-direction: column;\n",
       "}\n",
       "\n",
       "</style><style>\n",
       ".jp-mod-presentationMode .jp-Notebook .jp-Cell .jp-InputPrompt, \n",
       ".jp-mod-presentationMode .jp-Notebook .jp-Cell .jp-OutputPrompt {\n",
       "    flex: 0 0 2rem !important;\n",
       "    opacity: 0;\n",
       "}\n",
       ".jp-mod-presentationMode .jp-Notebook .jp-Cell.jp-mod-active .jp-OutputPrompt,\n",
       ".jp-mod-presentationMode .jp-Notebook .jp-Cell.jp-mod-active .jp-OutputPrompt {\n",
       "    opacity: 0.5;\n",
       "}\n",
       ".jp-mod-presentationMode .jp-Notebook .jp-Cell .jp-InputPrompt, \n",
       ".jp-mod-presentationMode .jp-Notebook .jp-Cell .jp-OutputPrompt\n",
       "\n",
       ".jp-mod-presentationMode hr {\n",
       "    opacity: 0.1;\n",
       "}\n",
       "</style>\n",
       "<style>\n",
       ".jp-mod-presentationMode #jp-main-status-bar {\n",
       "    opacity: 0.06;\n",
       "    transition: all 0.2s;\n",
       "}\n",
       ".jp-mod-presentationMode #jp-main-status-bar:hover {\n",
       "    opacity: 0.8;\n",
       "    transition: all 0.2s;\n",
       "}\n",
       "</style>\n",
       "\n",
       "<style>\n",
       ".jp-mod-presentationMode .jp-TableOfContents header:not(:hover),\n",
       ".jp-mod-presentationMode .jp-TableOfContents .toc-toolbar:not(:hover) {\n",
       "    opacity: 0;\n",
       "}\n",
       ".jp-mod-presentationMode .jp-TableOfContents,\n",
       ".jp-mod-presentationMode .jp-TableOfContents-content {\n",
       "    background-color: transparent;\n",
       "}\n",
       "</style>\n",
       "    "
      ],
      "text/plain": [
       "<IPython.core.display.HTML object>"
      ]
     },
     "metadata": {},
     "output_type": "display_data"
    },
    {
     "data": {
      "text/plain": [
       "<module '__style__' from '/home/tonyfast/Documents/XlbsOSh_t/xlbs/__style__.md.ipynb'>"
      ]
     },
     "metadata": {},
     "output_type": "display_data"
    },
    {
     "data": {
      "text/markdown": [
       "    from poser import *\n",
       "    import IPython\n",
       "    import __style__\n",
       "    display(__style__)"
      ],
      "text/plain": [
       "<IPython.core.display.Markdown object>"
      ]
     },
     "metadata": {},
     "output_type": "display_data"
    }
   ],
   "source": [
    "    from poser import *\n",
    "    import IPython\n",
    "    import __style__\n",
    "    display(__style__)"
   ]
  },
  {
   "cell_type": "code",
   "execution_count": 2,
   "metadata": {},
   "outputs": [
    {
     "data": {
      "text/markdown": [
       "    λ['requests_cache.install_cache']('xxx')"
      ],
      "text/plain": [
       "<IPython.core.display.Markdown object>"
      ]
     },
     "metadata": {},
     "output_type": "display_data"
    }
   ],
   "source": [
    "    λ['requests_cache.install_cache']('xxx')"
   ]
  },
  {
   "cell_type": "code",
   "execution_count": 3,
   "metadata": {},
   "outputs": [
    {
     "data": {
      "text/markdown": [
       "    avatar = λ[\"https://api.github.com/users/{}\".format]['requests.get'][Λ.json()['avatar_url']]"
      ],
      "text/plain": [
       "<IPython.core.display.Markdown object>"
      ]
     },
     "metadata": {},
     "output_type": "display_data"
    }
   ],
   "source": [
    "    avatar = λ[\"https://api.github.com/users/{}\".format]['requests.get'][Λ.json()['avatar_url']]"
   ]
  },
  {
   "cell_type": "code",
   "execution_count": 4,
   "metadata": {},
   "outputs": [
    {
     "data": {
      "text/markdown": [
       "    g:\\\n",
       "Shorthand graphviz graph.\\\n",
       "        \n",
       "        = λ[\n",
       "        λ**λ.contains('->') \n",
       "        & \"digraph { %s }\".__mod__ \n",
       "        | \"graph { %s }\".__mod__\n",
       "    ]['graphviz.Source']"
      ],
      "text/plain": [
       "<IPython.core.display.Markdown object>"
      ]
     },
     "metadata": {},
     "output_type": "display_data"
    }
   ],
   "source": [
    "    g:\\\n",
    "Shorthand graphviz graph.\\\n",
    "        \n",
    "        = λ[\n",
    "        λ**λ.contains('->') \n",
    "        & \"digraph { %s }\".__mod__ \n",
    "        | \"graph { %s }\".__mod__\n",
    "    ]['graphviz.Source']"
   ]
  },
  {
   "cell_type": "code",
   "execution_count": 5,
   "metadata": {},
   "outputs": [
    {
     "data": {
      "text/markdown": [
       "    circo = λ['layout=circo '.__add__][g]"
      ],
      "text/plain": [
       "<IPython.core.display.Markdown object>"
      ]
     },
     "metadata": {},
     "output_type": "display_data"
    }
   ],
   "source": [
    "    circo = λ['layout=circo '.__add__][g]"
   ]
  },
  {
   "cell_type": "code",
   "execution_count": 6,
   "metadata": {},
   "outputs": [
    {
     "data": {
      "text/markdown": [
       "![](https://avatars3.githubusercontent.com/u/11897326?v=4)"
      ],
      "text/plain": [
       "<IPython.core.display.Markdown object>"
      ]
     },
     "metadata": {},
     "output_type": "display_data"
    }
   ],
   "source": [
    "![]({{avatar('conda-forge')}})"
   ]
  },
  {
   "cell_type": "code",
   "execution_count": 7,
   "metadata": {},
   "outputs": [],
   "source": [
    "    \n",
    "    toc = λ.Markdown()(    \n",
    "        λ.glob(\"[1-9]*.ipynb\").sorted()\n",
    "        ['pandas.Series']().str.split('-', 1, expand=True)\n",
    "        .set_index(0).T.apply(\n",
    "            lambda s: F\"\"\"[{s[1].split(\".\")[0]}](./{s.name}-{s[1]})\"\"\"\n",
    "        ).to_markdown())"
   ]
  },
  {
   "cell_type": "code",
   "execution_count": 8,
   "metadata": {},
   "outputs": [
    {
     "data": {
      "text/markdown": [
       "[2](./2-demonstration.ipynb)"
      ],
      "text/plain": [
       "<IPython.core.display.Markdown object>"
      ]
     },
     "execution_count": 8,
     "metadata": {},
     "output_type": "execute_result"
    },
    {
     "data": {
      "text/markdown": [
       "    IPython.display.Markdown(\"[2](./2-demonstration.ipynb)\")"
      ],
      "text/plain": [
       "<IPython.core.display.Markdown object>"
      ]
     },
     "metadata": {},
     "output_type": "display_data"
    }
   ],
   "source": [
    "    IPython.display.Markdown(\"[2](./2-demonstration.ipynb)\")"
   ]
  },
  {
   "cell_type": "code",
   "execution_count": 9,
   "metadata": {},
   "outputs": [
    {
     "data": {
      "text/markdown": [
       "    def replace(line, cell):\n",
       "        for k, v in __import__(\"yaml\").safe_load(line).items():\n",
       "            cell = cell.replace(k, v)\n",
       "        IPython.get_ipython().set_next_input(cell)\n",
       "        "
      ],
      "text/plain": [
       "<IPython.core.display.Markdown object>"
      ]
     },
     "metadata": {},
     "output_type": "display_data"
    }
   ],
   "source": [
    "    def replace(line, cell):\n",
    "        for k, v in __import__(\"yaml\").safe_load(line).items():\n",
    "            cell = cell.replace(k, v)\n",
    "        IPython.get_ipython().set_next_input(cell)\n",
    "        "
   ]
  },
  {
   "cell_type": "code",
   "execution_count": 10,
   "metadata": {},
   "outputs": [
    {
     "data": {
      "text/markdown": [
       "    shell = IPython.get_ipython()\n",
       "\n",
       "    shell.register_magic_function(replace, 'cell')"
      ],
      "text/plain": [
       "<IPython.core.display.Markdown object>"
      ]
     },
     "metadata": {},
     "output_type": "display_data"
    }
   ],
   "source": [
    "    shell = IPython.get_ipython()\n",
    "\n",
    "    shell.register_magic_function(replace, 'cell')"
   ]
  },
  {
   "cell_type": "code",
   "execution_count": null,
   "metadata": {},
   "outputs": [],
   "source": []
  }
 ],
 "metadata": {
  "kernelspec": {
   "display_name": "pidgy 3",
   "language": "python",
   "name": "pidgy"
  },
  "language_info": {
   "codemirror_mode": {
    "name": "ipython",
    "version": 3
   },
   "file_extension": ".py",
   "mimetype": "text/x-python",
   "name": "python",
   "nbconvert_exporter": "python",
   "pygments_lexer": "ipython3",
   "version": "3.7.7"
  }
 },
 "nbformat": 4,
 "nbformat_minor": 4
}
