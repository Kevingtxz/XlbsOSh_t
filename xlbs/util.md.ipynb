{
 "cells": [
  {
   "cell_type": "code",
   "execution_count": null,
   "metadata": {},
   "outputs": [],
   "source": [
    "    from poser import *\n",
    "    import IPython\n",
    "    import __style__\n",
    "    display(__style__)"
   ]
  },
  {
   "cell_type": "code",
   "execution_count": 1,
   "metadata": {},
   "outputs": [],
   "source": [
    "\n",
    "    import matplotlib.pyplot as plt\n",
    "    from IPython.display import set_matplotlib_formats\n",
    "    %matplotlib inline\n",
    "    set_matplotlib_formats('svg')"
   ]
  },
  {
   "cell_type": "code",
   "execution_count": null,
   "metadata": {},
   "outputs": [],
   "source": [
    "    if not [*λ[\"pathlib.Path\"](\"img\").glob(\"*.jpg\")]:\n",
    "        !git submodule update --init"
   ]
  },
  {
   "cell_type": "code",
   "execution_count": null,
   "metadata": {},
   "outputs": [],
   "source": [
    "    λ['requests_cache.install_cache']('xxx')"
   ]
  },
  {
   "cell_type": "code",
   "execution_count": null,
   "metadata": {},
   "outputs": [],
   "source": [
    "    avatar = λ[\"https://api.github.com/users/{}\".format]['requests.get'][Λ.json()['avatar_url']]"
   ]
  },
  {
   "cell_type": "code",
   "execution_count": null,
   "metadata": {},
   "outputs": [],
   "source": [
    "    g:\\\n",
    "Shorthand graphviz graph.\\\n",
    "        \n",
    "        = λ[\n",
    "        λ**λ.contains('->') \n",
    "        & \"digraph { %s }\".__mod__ \n",
    "        | \"graph { %s }\".__mod__\n",
    "    ]['graphviz.Source']"
   ]
  },
  {
   "cell_type": "code",
   "execution_count": null,
   "metadata": {},
   "outputs": [],
   "source": [
    "    circo = λ['layout=circo '.__add__][g]"
   ]
  },
  {
   "cell_type": "code",
   "execution_count": null,
   "metadata": {},
   "outputs": [],
   "source": [
    "![]({{avatar('conda-forge')}})"
   ]
  },
  {
   "cell_type": "code",
   "execution_count": null,
   "metadata": {},
   "outputs": [],
   "source": [
    "    \n",
    "    toc = λ.Markdown()(    \n",
    "        λ.glob(\"[1-9]*.ipynb\").sorted()\n",
    "        ['pandas.Series']().str.split('-', 1, expand=True)\n",
    "        .set_index(0).T.apply(\n",
    "            lambda s: F\"\"\"[{s[1].split(\".\")[0]}](./{s.name}-{s[1]})\"\"\"\n",
    "        ).to_markdown())"
   ]
  },
  {
   "cell_type": "code",
   "execution_count": null,
   "metadata": {},
   "outputs": [],
   "source": [
    "    IPython.display.Markdown(\"[2](./2-demonstration.ipynb)\")"
   ]
  },
  {
   "cell_type": "code",
   "execution_count": null,
   "metadata": {},
   "outputs": [],
   "source": [
    "    def replace(line, cell):\n",
    "        for k, v in __import__(\"yaml\").safe_load(line).items():\n",
    "            cell = cell.replace(k, v)\n",
    "        IPython.get_ipython().set_next_input(cell)\n",
    "        "
   ]
  },
  {
   "cell_type": "code",
   "execution_count": null,
   "metadata": {},
   "outputs": [],
   "source": [
    "    shell = IPython.get_ipython()\n",
    "\n",
    "    shell.register_magic_function(replace, 'cell')"
   ]
  },
  {
   "cell_type": "code",
   "execution_count": null,
   "metadata": {},
   "outputs": [],
   "source": []
  }
 ],
 "metadata": {
  "kernelspec": {
   "display_name": "pidgy 3",
   "language": "python",
   "name": "pidgy"
  },
  "language_info": {
   "codemirror_mode": {
    "name": "ipython",
    "version": 3
   },
   "file_extension": ".py",
   "mimetype": "text/x-python",
   "name": "python",
   "nbconvert_exporter": "python",
   "pygments_lexer": "ipython3",
   "version": "3.7.8"
  }
 },
 "nbformat": 4,
 "nbformat_minor": 4
}
