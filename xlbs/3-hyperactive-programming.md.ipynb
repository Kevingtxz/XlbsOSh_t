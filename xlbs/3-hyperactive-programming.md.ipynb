{
 "cells": [
  {
   "cell_type": "code",
   "execution_count": 1,
   "metadata": {},
   "outputs": [
    {
     "data": {
      "text/html": [
       "<style>\n",
       ".jp-mod-presentationMode {\n",
       "    --jp-notebook-padding: 0;\n",
       "}\n",
       ".jp-RenderedHTMLCommon pre code {\n",
       "    opacity: 0.25;\n",
       "}\n",
       ".jp-Placeholder-content .jp-MoreHorizIcon {\n",
       "    background-size: 32px;\n",
       "}\n",
       "</style><style>\n",
       ".jp-mod-presentationMode .jp-SideBar,\n",
       ".jp-mod-presentationMode #jp-top-panel {\n",
       "    opacity: 0.0;\n",
       "    transition: all 0.2s;\n",
       "}\n",
       ".jp-mod-presentationMode .jp-SideBar:hover,\n",
       ".jp-mod-presentationMode #jp-top-panel:hover {\n",
       "    opacity: 0.9;\n",
       "    transition: all 0.2s;\n",
       "}</style><style>\n",
       ".jp-mod-presentationMode.jp-ApplicationShell,\n",
       ".jp-mod-presentationMode .p-TabBar-content{\n",
       "    background-color: var(--jp-layout-color0);\n",
       "}\n",
       "</style><style>\n",
       ".jp-mod-presentationMode .p-DockPanel-widget,\n",
       ".jp-mod-presentationMode #jp-left-stack, \n",
       ".jp-mod-presentationMode #jp-bottom-panel{\n",
       "    border-color: transparent;\n",
       "}\n",
       ".jp-mod-presentationMode .jp-Toolbar-item,\n",
       ".jp-mod-presentationMode .jp-Toolbar, \n",
       ".jp-mod-presentationMode #jp-bottom-panel {\n",
       "    opacity: 0.1;\n",
       "    transition: all 0.2s;\n",
       "}\n",
       ".jp-mod-presentationMode .jp-Toolbar-item:hover,\n",
       ".jp-mod-presentationMode .jp-Toolbar:hover, \n",
       ".jp-mod-presentationMode #jp-bottom-panel:hover {\n",
       "    opacity: 0.9;\n",
       "    transition: all 0.2s;\n",
       "}\n",
       "\n",
       ".jp-mod-presentationMode .jp-InputArea {\n",
       "    flex-direction: column;\n",
       "}\n",
       "\n",
       "</style><style>\n",
       ".jp-mod-presentationMode .jp-Notebook .jp-Cell .jp-InputPrompt, \n",
       ".jp-mod-presentationMode .jp-Notebook .jp-Cell .jp-OutputPrompt {\n",
       "    flex: 0 0 2rem !important;\n",
       "    opacity: 0;\n",
       "}\n",
       ".jp-mod-presentationMode .jp-Notebook .jp-Cell.jp-mod-active .jp-OutputPrompt,\n",
       ".jp-mod-presentationMode .jp-Notebook .jp-Cell.jp-mod-active .jp-OutputPrompt {\n",
       "    opacity: 0.5;\n",
       "}\n",
       ".jp-mod-presentationMode .jp-Notebook .jp-Cell .jp-InputPrompt, \n",
       ".jp-mod-presentationMode .jp-Notebook .jp-Cell .jp-OutputPrompt\n",
       "\n",
       ".jp-mod-presentationMode hr {\n",
       "    opacity: 0.1;\n",
       "}\n",
       "</style>\n",
       "<style>\n",
       ".jp-mod-presentationMode #jp-main-status-bar {\n",
       "    opacity: 0.06;\n",
       "    transition: all 0.2s;\n",
       "}\n",
       ".jp-mod-presentationMode #jp-main-status-bar:hover {\n",
       "    opacity: 0.8;\n",
       "    transition: all 0.2s;\n",
       "}\n",
       "</style>\n",
       "\n",
       "<style>\n",
       ".jp-mod-presentationMode .jp-TableOfContents header:not(:hover),\n",
       ".jp-mod-presentationMode .jp-TableOfContents .toc-toolbar:not(:hover) {\n",
       "    opacity: 0;\n",
       "}\n",
       ".jp-mod-presentationMode .jp-TableOfContents,\n",
       ".jp-mod-presentationMode .jp-TableOfContents-content {\n",
       "    background-color: transparent;\n",
       "}\n",
       "</style>\n",
       "    \n",
       "<style>\n",
       ".jp-mod-presentationMode  .jp-Cell-outputArea {\n",
       "    display: flex;\n",
       "    flex-direction: row;\n",
       "    flex-wrap: wrap;\n",
       "    justify-content: space-around;\n",
       "}\n",
       ".jp-mod-presentationMode  .jp-OutputArea-child {\n",
       "    padding: var(--jp-notebook-padding);\n",
       "    flex-basis: 50%;\n",
       "    flex-grow: 1;\n",
       "    flex-shrink: 1;\n",
       "}\n",
       ".jp-mod-presentationMode .jp-OutputArea-output img, \n",
       ".jp-mod-presentationMode .jp-OutputArea-output iframe , \n",
       ".jp-mod-presentationMode .jp-OutputArea-output svg {\n",
       "    filter: grayscale(100%)  invert(0%);\n",
       "    transition: all 2s;\n",
       "    width: 100%;\n",
       "    max-height: 80vh;\n",
       "}\n",
       "\n",
       ".jp-mod-presentationMode .jp-OutputArea-output img:hover, \n",
       ".jp-mod-presentationMode .jp-OutputArea-output iframe:hover , \n",
       ".jp-mod-presentationMode .jp-OutputArea-output svg:hover {\n",
       "    filter: grayscale(100%)  invert(100%);\n",
       "    transition: all 800ms;\n",
       "}\n",
       "</style>\n",
       "    "
      ],
      "text/plain": [
       "<IPython.core.display.HTML object>"
      ]
     },
     "metadata": {},
     "output_type": "display_data"
    },
    {
     "data": {
      "text/plain": [
       "<module '__style__' from '/home/tonyfast/Documents/XlbsOSh_t/xlbs/__style__.md.ipynb'>"
      ]
     },
     "metadata": {},
     "output_type": "display_data"
    },
    {
     "data": {
      "text/markdown": [
       "|   0 | 0                                                               |\n",
       "|----:|:----------------------------------------------------------------|\n",
       "|   1 | [skateparks](./1-skateparks.md.ipynb)                           |\n",
       "|   2 | [demonstration](./2-demonstration.md.ipynb)                     |\n",
       "|   3 | [hyperactive-programming](./3-hyperactive-programming.md.ipynb) |\n",
       "|   4 | [demolition](./4-demolition.md.ipynb)                           |\n",
       "|   5 | [dead-pixels](./5-dead-pixels.md.ipynb)                         |"
      ],
      "text/plain": [
       "<IPython.core.display.Markdown object>"
      ]
     },
     "execution_count": 1,
     "metadata": {},
     "output_type": "execute_result"
    },
    {
     "data": {
      "text/markdown": [
       "# hyperactive computing\n",
       "\n",
       "![](./img/code%20test%20story%20tape.jpg)\n",
       "\n",
       "The ultimate goal of all ~art~ code is the _act of_ building!\n",
       "\n",
       "### reproducibility is political\n",
       "## literacy ain't\n",
       "\n",
       "\n",
       "    from util import *\n",
       "    i = 0\n",
       "    toc"
      ],
      "text/plain": [
       "<IPython.core.display.Markdown object>"
      ]
     },
     "metadata": {},
     "output_type": "display_data"
    }
   ],
   "source": [
    "# hyperactive computing\n",
    "\n",
    "![](./img/code%20test%20story%20tape.jpg)\n",
    "\n",
    "The ultimate goal of all ~art~ code is the _act of_ building!\n",
    "\n",
    "### reproducibility is political\n",
    "## literacy ain't\n",
    "\n",
    "\n",
    "    from util import *\n",
    "    i = 0\n",
    "    toc"
   ]
  },
  {
   "cell_type": "code",
   "execution_count": 2,
   "metadata": {},
   "outputs": [
    {
     "data": {
      "text/markdown": [
       "## computational essayists\n",
       "\n",
       "> ### _I'm gonna open this notebook/terminal/application to try something!_"
      ],
      "text/plain": [
       "<IPython.core.display.Markdown object>"
      ]
     },
     "metadata": {},
     "output_type": "display_data"
    }
   ],
   "source": [
    "## computational essayists\n",
    "\n",
    "> ### _I'm gonna open this notebook/terminal/application to try something!_"
   ]
  },
  {
   "cell_type": "code",
   "execution_count": 3,
   "metadata": {},
   "outputs": [
    {
     "data": {
      "text/markdown": [
       "### donny knuth & literate `#programming`\n",
       "\n",
       "[The Computer Scientist Who Can’t Stop Telling Stories](https://www.quantamagazine.org/computer-scientist-donald-knuth-cant-stop-telling-stories-20200416/)\n",
       "\n",
       "<?xml version=\"1.0\" encoding=\"UTF-8\" standalone=\"no\"?><!DOCTYPE svg PUBLIC \"-//W3C//DTD SVG 1.1//EN\"\n",
       " \"http://www.w3.org/Graphics/SVG/1.1/DTD/svg11.dtd\"><!-- Generated by graphviz version 2.42.3 (20191010.1750)\n",
       " --><!-- Title: %3 Pages: 1 --><svg width=239pt height=98pt viewbox=\"0.00 0.00 238.89 98.00\" xmlns=http://www.w3.org/2000/svg xmlns:xlink=http://www.w3.org/1999/xlink><g id=graph0 class=graph transform=\"scale(1 1) rotate(0) translate(4 94)\"><title>%3</title><polygon fill=white stroke=transparent points=\"-4,4 -4,-94 234.89,-94 234.89,4 -4,4\"/><!-- source --><g id=node1 class=node><title>source</title><ellipse fill=none stroke=black cx=33.8 cy=-45 rx=33.6 ry=18 /><text text-anchor=middle x=33.8 y=-41.3 font-family=Times,serif font-size=14.00>source</text></g><!-- document --><g id=node2 class=node><title>document</title><ellipse fill=none stroke=black cx=184.74 cy=-72 rx=46.29 ry=18 /><text text-anchor=middle x=184.74 y=-68.3 font-family=Times,serif font-size=14.00>document</text></g><!-- source&#45;&gt;document --><g id=edge1 class=edge><title>source&#45;&gt;document</title><path fill=none stroke=black d=\"M66.02,-50.66C85.33,-54.16 110.57,-58.74 132.73,-62.75\"/><polygon fill=black stroke=black points=\"132.19,-66.21 142.66,-64.55 133.44,-59.32 132.19,-66.21\"/><text text-anchor=middle x=103.09 y=-63.8 font-family=Times,serif font-size=14.00>weave</text></g><!-- code --><g id=node3 class=node><title>code</title><ellipse fill=none stroke=black cx=184.74 cy=-18 rx=27.1 ry=18 /><text text-anchor=middle x=184.74 y=-14.3 font-family=Times,serif font-size=14.00>code</text></g><!-- source&#45;&gt;code --><g id=edge2 class=edge><title>source&#45;&gt;code</title><path fill=none stroke=black d=\"M65.67,-38.81C72.24,-37.52 79.14,-36.19 85.59,-35 106.16,-31.2 129.2,-27.19 147.78,-24.03\"/><polygon fill=black stroke=black points=\"148.61,-27.44 157.88,-22.31 147.44,-20.53 148.61,-27.44\"/><text text-anchor=middle x=103.09 y=-38.8 font-family=Times,serif font-size=14.00>tangle</text></g></g></svg>\n",
       "\n",
       "#### The practitioner of literate programming can be \n",
       "## regarded as an essayist,\n",
       "### whose main concern is with exposition \n",
       "# &  excellence of style. \n",
       "#### Such an author, with thesaurus in hand, chooses the names of variables carefully & explains what each variable means. \n",
       "## He or she\n",
       "### strives for a program that is comprehensible because its\n",
       "#### concepts have been introduced in an order that is best\n",
       "### for human understanding, using \n",
       "## a mixture of \n",
       "# formal & informal methods \n",
       "### that reinforce ~co-develop~ each other.\n",
       "\n"
      ],
      "text/plain": [
       "<IPython.core.display.Markdown object>"
      ]
     },
     "metadata": {},
     "output_type": "display_data"
    }
   ],
   "source": [
    "### donny knuth & literate `#programming`\n",
    "\n",
    "[The Computer Scientist Who Can’t Stop Telling Stories](https://www.quantamagazine.org/computer-scientist-donald-knuth-cant-stop-telling-stories-20200416/)\n",
    "\n",
    "{{g(\"\"\"source->document[label=weave] source->code[label=tangle] rankdir=LR\"\"\")}}\n",
    "\n",
    "#### The practitioner of literate programming can be \n",
    "## regarded as an essayist,\n",
    "### whose main concern is with exposition \n",
    "# &  excellence of style. \n",
    "#### Such an author, with thesaurus in hand, chooses the names of variables carefully & explains what each variable means. \n",
    "## He or she\n",
    "### strives for a program that is comprehensible because its\n",
    "#### concepts have been introduced in an order that is best\n",
    "### for human understanding, using \n",
    "## a mixture of \n",
    "# formal & informal methods \n",
    "### that reinforce ~co-develop~ each other.\n",
    "\n",
    "\n"
   ]
  },
  {
   "cell_type": "code",
   "execution_count": 4,
   "metadata": {},
   "outputs": [
    {
     "data": {
      "text/markdown": [
       "> ## I am imposing a moral commitment on everyone who hears the term; \n",
       ">>  # surely nobody wants to admit writing an illiterate program.\n",
       "\n",
       "## [The patron saint of yak shaves](https://yakshav.es/the-patron-saint-of-yakshaves/)\n",
       "\n",
       "![](https://i.makeagif.com/media/2-21-2015/5FmXL8.gif)\n",
       "\n",
       "\n",
       "\n",
       "[web]: http://www.literateprogramming.com/knuthweb.pdf"
      ],
      "text/plain": [
       "<IPython.core.display.Markdown object>"
      ]
     },
     "metadata": {},
     "output_type": "display_data"
    }
   ],
   "source": [
    "> ## I am imposing a moral commitment on everyone who hears the term; \n",
    ">>  # surely nobody wants to admit writing an illiterate program.\n",
    "\n",
    "## [The patron saint of yak shaves](https://yakshav.es/the-patron-saint-of-yakshaves/)\n",
    "\n",
    "![](https://i.makeagif.com/media/2-21-2015/5FmXL8.gif)\n",
    "\n",
    "\n",
    "\n",
    "[web]: http://www.literateprogramming.com/knuthweb.pdf\n"
   ]
  },
  {
   "cell_type": "code",
   "execution_count": 5,
   "metadata": {},
   "outputs": [
    {
     "data": {
      "text/markdown": [
       "### literate `#computing`\n",
       "\n",
       "### From this perspective, we therefore refer to the workflow exposed by these kinds of computational notebooks \n",
       "#### (not just IPython, but also Sage, Mathematica and others), \n",
       "## as \"literate computing\": \n",
       "# it is the weaving of a narrative directly \n",
       "## into a live computation, \n",
       "### interleaving text with code and results to construct a complete piece \n",
       "## that relies equally on the textual explanations and the computational components. \n",
       ">> Fernando Perez - [\"Literate computing\" and computational reproducibility: IPython in the age of data-driven journalism]\n",
       "    \n",
       "[\"Literate computing\" and computational reproducibility: IPython in the age of data-driven journalism]: http://blog.fperez.org/2013/04/literate-computing-and-computational.html\n",
       "\n",
       "\n",
       "[Jupyter meets the Earth: EarthCube Community Meeting](https://blog.jupyter.org/jupyter-meets-the-earth-earthcube-community-meeting-4bb9fb49cada)"
      ],
      "text/plain": [
       "<IPython.core.display.Markdown object>"
      ]
     },
     "metadata": {},
     "output_type": "display_data"
    }
   ],
   "source": [
    "### literate `#computing`\n",
    "\n",
    "### From this perspective, we therefore refer to the workflow exposed by these kinds of computational notebooks \n",
    "#### (not just IPython, but also Sage, Mathematica and others), \n",
    "## as \"literate computing\": \n",
    "# it is the weaving of a narrative directly \n",
    "## into a live computation, \n",
    "### interleaving text with code and results to construct a complete piece \n",
    "## that relies equally on the textual explanations and the computational components. \n",
    ">> Fernando Perez - [\"Literate computing\" and computational reproducibility: IPython in the age of data-driven journalism]\n",
    "    \n",
    "[\"Literate computing\" and computational reproducibility: IPython in the age of data-driven journalism]: http://blog.fperez.org/2013/04/literate-computing-and-computational.html\n",
    "\n",
    "\n",
    "[Jupyter meets the Earth: EarthCube Community Meeting](https://blog.jupyter.org/jupyter-meets-the-earth-earthcube-community-meeting-4bb9fb49cada)"
   ]
  },
  {
   "cell_type": "code",
   "execution_count": 6,
   "metadata": {},
   "outputs": [
    {
     "data": {
      "text/markdown": [
       "This presentation was written with ❤ in `#pidgy`. @tonyfast will be talking more about at this years virtual jupyter con."
      ],
      "text/plain": [
       "<IPython.core.display.Markdown object>"
      ]
     },
     "metadata": {},
     "output_type": "display_data"
    }
   ],
   "source": [
    "This presentation was written with ❤ in `#pidgy`. @tonyfast will be talking more about at this years virtual jupyter con."
   ]
  },
  {
   "cell_type": "code",
   "execution_count": 7,
   "metadata": {
    "jupyter": {
     "source_hidden": true
    }
   },
   "outputs": [
    {
     "data": {
      "text/markdown": [
       "## coding with more fingers\n",
       "\n",
       "![](https://media1.giphy.com/media/fsoCk5kgOcYMM/giphy.gif)"
      ],
      "text/plain": [
       "<IPython.core.display.Markdown object>"
      ]
     },
     "metadata": {},
     "output_type": "display_data"
    }
   ],
   "source": [
    "## coding with more fingers\n",
    "\n",
    "![](https://media1.giphy.com/media/fsoCk5kgOcYMM/giphy.gif)"
   ]
  },
  {
   "cell_type": "code",
   "execution_count": 8,
   "metadata": {},
   "outputs": [
    {
     "data": {
      "text/markdown": [
       "## [A Notebook is a Hypothesis](https://github.com/deathbeds/wtf)\n",
       "\n",
       "* Computational essays take parts from literacy and programming to tell data driven stories..\n",
       "* Best practices for maturing notebooks into computational essays.\n",
       "* Formal software testing practices to extend the sell by date of a notebook."
      ],
      "text/plain": [
       "<IPython.core.display.Markdown object>"
      ]
     },
     "metadata": {},
     "output_type": "display_data"
    }
   ],
   "source": [
    "## [A Notebook is a Hypothesis](https://github.com/deathbeds/wtf)\n",
    "\n",
    "* Computational essays take parts from literacy and programming to tell data driven stories..\n",
    "* Best practices for maturing notebooks into computational essays.\n",
    "* Formal software testing practices to extend the sell by date of a notebook."
   ]
  },
  {
   "cell_type": "code",
   "execution_count": 9,
   "metadata": {
    "jupyter": {
     "source_hidden": true
    }
   },
   "outputs": [
    {
     "data": {
      "text/markdown": [
       "### testing ideas, doing new tricks"
      ],
      "text/plain": [
       "<IPython.core.display.Markdown object>"
      ]
     },
     "metadata": {},
     "output_type": "display_data"
    }
   ],
   "source": [
    "### testing ideas, doing new tricks"
   ]
  },
  {
   "cell_type": "code",
   "execution_count": 10,
   "metadata": {},
   "outputs": [
    {
     "data": {
      "text/html": [
       "\n",
       "        <iframe\n",
       "            width=\"100%\"\n",
       "            height=\"auto\" style=\"80vh\" \"\n",
       "            src=\"https://docs.python-guide.org/writing/tests/\"\n",
       "            frameborder=\"0\"\n",
       "            allowfullscreen\n",
       "        ></iframe>\n",
       "        "
      ],
      "text/plain": [
       "<IPython.lib.display.IFrame at 0x7f1e6f1d58d0>"
      ]
     },
     "metadata": {},
     "output_type": "display_data"
    }
   ],
   "source": [
    "https://docs.python-guide.org/writing/tests/"
   ]
  },
  {
   "cell_type": "code",
   "execution_count": 11,
   "metadata": {
    "jupyter": {
     "source_hidden": true
    }
   },
   "outputs": [
    {
     "data": {
      "text/markdown": [
       "## `import importnb`\n",
       "\n",
       "## `importnb` is a key tool in the `#deathbeds` arsenal.\n",
       "\n",
       "A while ago we started using **notebooks as source**, changing our ability to collaboratively \n",
       "**build**, **test**, and **demo**"
      ],
      "text/plain": [
       "<IPython.core.display.Markdown object>"
      ]
     },
     "metadata": {},
     "output_type": "display_data"
    }
   ],
   "source": [
    "## `import importnb`\n",
    "\n",
    "## `importnb` is a key tool in the `#deathbeds` arsenal.\n",
    "\n",
    "A while ago we started using **notebooks as source**, changing our ability to collaboratively \n",
    "**build**, **test**, and **demo**"
   ]
  },
  {
   "cell_type": "markdown",
   "metadata": {},
   "source": [
    "## literate programs are meant for documentation\n",
    "\n",
    "### Computation is a validation"
   ]
  },
  {
   "cell_type": "code",
   "execution_count": 12,
   "metadata": {
    "jupyter": {
     "source_hidden": true
    }
   },
   "outputs": [
    {
     "data": {
      "text/markdown": [
       "## testing 💩 in environments\n",
       "\n",
       ">> ### _Environments are invisible. Their ground rules, pervasive structure, and overall platforms elude easy perception._\n",
       "\n",
       "> - The Medium is the Massage"
      ],
      "text/plain": [
       "<IPython.core.display.Markdown object>"
      ]
     },
     "metadata": {},
     "output_type": "display_data"
    }
   ],
   "source": [
    "## testing 💩 in environments\n",
    "\n",
    ">> ### _Environments are invisible. Their ground rules, pervasive structure, and overall platforms elude easy perception._\n",
    "\n",
    "> - The Medium is the Massage"
   ]
  },
  {
   "cell_type": "code",
   "execution_count": 13,
   "metadata": {},
   "outputs": [
    {
     "data": {
      "image/jpeg": "[encoded data removed]",
      "text/html": [
       "\n",
       "        <iframe\n",
       "            width=\"400\"\n",
       "            height=\"300\"\n",
       "            src=\"https://www.youtube.com/embed/uYGh9_c3b7s?start=10\"\n",
       "            frameborder=\"0\"\n",
       "            allowfullscreen\n",
       "        ></iframe>\n",
       "        "
      ],
      "text/plain": [
       "<IPython.lib.display.YouTubeVideo at 0x7f1e8637d950>"
      ]
     },
     "execution_count": 13,
     "metadata": {},
     "output_type": "execute_result"
    },
    {
     "data": {
      "text/markdown": [
       "### literate [`#_testing`]\n",
       "#### robotlab\n",
       "\n",
       "    λ.YouTubeVideo()(\"uYGh9_c3b7s\", start=10)"
      ],
      "text/plain": [
       "<IPython.core.display.Markdown object>"
      ]
     },
     "metadata": {},
     "output_type": "display_data"
    }
   ],
   "source": [
    "### literate [`#_testing`]\n",
    "#### robotlab\n",
    "\n",
    "    λ.YouTubeVideo()(\"uYGh9_c3b7s\", start=10)"
   ]
  },
  {
   "cell_type": "code",
   "execution_count": 14,
   "metadata": {},
   "outputs": [
    {
     "data": {
      "text/markdown": [
       "    import robot\n",
       "\n",
       "\n",
       "### programming the browser with `robot` testing\n",
       "\n",
       "When `#deathbeds` builds UI, robotframework keeps us honest\n",
       "\n",
       "```robot\n",
       "*** Settings ***\n",
       "Library           JupyterLibrary\n",
       "Suite Setup       Wait for New Jupyter Server to be Ready\n",
       "Test Teardown     Reset JupyterLab and Close\n",
       "Suite Teardown    Terminate All Jupyter Servers\n",
       "\n",
       "*** Test Cases ***\n",
       "A Notebook in JupyterLab\n",
       "    Open JupyterLab\n",
       "    Launch a new JupyterLab Document\n",
       "    Add and Run JupyterLab Code Cell  print(\"hello world\")\n",
       "    Wait Until JupyterLab Kernel Is Idle\n",
       "    Capture Page Screenshot\n",
       "```"
      ],
      "text/plain": [
       "<IPython.core.display.Markdown object>"
      ]
     },
     "metadata": {},
     "output_type": "display_data"
    }
   ],
   "source": [
    "    import robot\n",
    "\n",
    "\n",
    "### programming the browser with `robot` testing\n",
    "\n",
    "When `#deathbeds` builds UI, robotframework keeps us honest\n",
    "\n",
    "```robot\n",
    "*** Settings ***\n",
    "Library           JupyterLibrary\n",
    "Suite Setup       Wait for New Jupyter Server to be Ready\n",
    "Test Teardown     Reset JupyterLab and Close\n",
    "Suite Teardown    Terminate All Jupyter Servers\n",
    "\n",
    "*** Test Cases ***\n",
    "A Notebook in JupyterLab\n",
    "    Open JupyterLab\n",
    "    Launch a new JupyterLab Document\n",
    "    Add and Run JupyterLab Code Cell  print(\"hello world\")\n",
    "    Wait Until JupyterLab Kernel Is Idle\n",
    "    Capture Page Screenshot\n",
    "```"
   ]
  },
  {
   "cell_type": "code",
   "execution_count": 15,
   "metadata": {},
   "outputs": [
    {
     "data": {
      "text/markdown": [
       "### `__import__(\"IPython\").InteractiveShell`\n",
       "\n",
       "#### IPython inspection\n",
       "\n",
       "🤣😂😆🤣😂😆🤣😂😆🤣😂😆🤣😂😆🤣\n",
       "\n",
       "[0, 1, 2, 'fizz', 4, 'buzz', 'fizz', 7, 8, 'fizz', 'buzz', 11, 'fizz', 13, 14, 'fizz buzz']\n",
       "\n",
       "    i |= 16\n",
       "    i += 1\n",
       "    fizzbuzz:\\\n",
       "A functional formal of [fizz buzz].\\\n",
       "        \n",
       "        = λ.range().map(\n",
       "            # no remainder for 15\n",
       "        λ**(-λ[Λ%15][bool]) & \"fizz buzz\".format \n",
       "            # no remainder for 5\n",
       "        | λ**(-λ[Λ%5][bool]) & \"buzz\".format \n",
       "            # no remainder for 5\n",
       "        | λ**(-λ[Λ%3][bool]) & \"fizz\".format \n",
       "        | λ()\n",
       "    ).list()\n",
       "\n",
       "\n",
       "\n",
       "[fizz buzz]: https://en.wikipedia.org/wiki/Fizz_buzz\n",
       "        \n",
       "!!!!!!"
      ],
      "text/plain": [
       "<IPython.core.display.Markdown object>"
      ]
     },
     "metadata": {},
     "output_type": "display_data"
    }
   ],
   "source": [
    "### `__import__(\"IPython\").InteractiveShell`\n",
    "\n",
    "#### IPython inspection\n",
    "\n",
    "{% for i in range(i) %}{{\"🤣😂😆\"[i%3]}}{% endfor %}\n",
    "\n",
    "{{fizzbuzz(i)}}\n",
    "\n",
    "    i |= 16\n",
    "    i += 1\n",
    "    fizzbuzz:\\\n",
    "A functional formal of [fizz buzz].\\\n",
    "        \n",
    "        = λ.range().map(\n",
    "            # no remainder for 15\n",
    "        λ**(-λ[Λ%15][bool]) & \"fizz buzz\".format \n",
    "            # no remainder for 5\n",
    "        | λ**(-λ[Λ%5][bool]) & \"buzz\".format \n",
    "            # no remainder for 5\n",
    "        | λ**(-λ[Λ%3][bool]) & \"fizz\".format \n",
    "        | λ()\n",
    "    ).list()\n",
    "\n",
    "\n",
    "\n",
    "[fizz buzz]: https://en.wikipedia.org/wiki/Fizz_buzz\n",
    "        \n",
    "!!!!!!"
   ]
  },
  {
   "cell_type": "code",
   "execution_count": 16,
   "metadata": {},
   "outputs": [
    {
     "data": {
      "text/markdown": [
       "    i = 16"
      ],
      "text/plain": [
       "<IPython.core.display.Markdown object>"
      ]
     },
     "metadata": {},
     "output_type": "display_data"
    }
   ],
   "source": [
    "    i = 16"
   ]
  },
  {
   "cell_type": "code",
   "execution_count": 17,
   "metadata": {},
   "outputs": [
    {
     "data": {
      "text/markdown": [
       "## [Language server protocol][lsp]\n",
       "\n",
       "### inspection, completion, 100+ other things\n",
       "\n",
       "\n",
       "[lsp]: https://en.wikipedia.org/wiki/Language_Server_Protocol"
      ],
      "text/plain": [
       "<IPython.core.display.Markdown object>"
      ]
     },
     "metadata": {},
     "output_type": "display_data"
    }
   ],
   "source": [
    "## [Language server protocol][lsp]\n",
    "\n",
    "### inspection, completion, 100+ other things\n",
    "\n",
    "\n",
    "[lsp]: https://en.wikipedia.org/wiki/Language_Server_Protocol"
   ]
  },
  {
   "cell_type": "code",
   "execution_count": 18,
   "metadata": {},
   "outputs": [
    {
     "data": {
      "text/markdown": [
       "## Takeaways\n",
       "\n",
       "* Develop with and co-develop against community tools\n",
       "* There are many facets to demo code\n",
       "* The balance takes practice"
      ],
      "text/plain": [
       "<IPython.core.display.Markdown object>"
      ]
     },
     "metadata": {},
     "output_type": "display_data"
    }
   ],
   "source": [
    "## Takeaways\n",
    "\n",
    "* Develop with and co-develop against community tools\n",
    "* There are many facets to demo code\n",
    "* The balance takes practice"
   ]
  },
  {
   "cell_type": "code",
   "execution_count": 19,
   "metadata": {},
   "outputs": [
    {
     "data": {
      "text/markdown": [
       "|   0 | 0                                                               |\n",
       "|----:|:----------------------------------------------------------------|\n",
       "|   1 | [skateparks](./1-skateparks.md.ipynb)                           |\n",
       "|   2 | [demonstration](./2-demonstration.md.ipynb)                     |\n",
       "|   3 | [hyperactive-programming](./3-hyperactive-programming.md.ipynb) |\n",
       "|   4 | [demolition](./4-demolition.md.ipynb)                           |\n",
       "|   5 | [dead-pixels](./5-dead-pixels.md.ipynb)                         |"
      ],
      "text/plain": [
       "<IPython.core.display.Markdown object>"
      ]
     },
     "execution_count": 19,
     "metadata": {},
     "output_type": "execute_result"
    },
    {
     "data": {
      "text/markdown": [
       "    toc"
      ],
      "text/plain": [
       "<IPython.core.display.Markdown object>"
      ]
     },
     "metadata": {},
     "output_type": "display_data"
    }
   ],
   "source": [
    "    toc"
   ]
  },
  {
   "cell_type": "code",
   "execution_count": null,
   "metadata": {},
   "outputs": [],
   "source": []
  }
 ],
 "metadata": {
  "kernelspec": {
   "display_name": "pidgy 3",
   "language": "python",
   "name": "pidgy"
  },
  "language_info": {
   "codemirror_mode": {
    "name": "ipython",
    "version": 3
   },
   "file_extension": ".py",
   "mimetype": "text/x-python",
   "name": "python",
   "nbconvert_exporter": "python",
   "pygments_lexer": "ipython3",
   "version": "3.7.7"
  },
  "toc-autonumbering": true
 },
 "nbformat": 4,
 "nbformat_minor": 4
}
