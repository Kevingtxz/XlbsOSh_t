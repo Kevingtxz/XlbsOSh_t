{
 "cells": [
  {
   "cell_type": "code",
   "execution_count": 1,
   "metadata": {},
   "outputs": [
    {
     "data": {
      "text/markdown": [
       "|   0 | 0                                                            |\n",
       "|----:|:-------------------------------------------------------------|\n",
       "|   1 | [skateparks](./1-skateparks.md.ipynb)                        |\n",
       "|   2 | [demonstration](./2-demonstration.ipynb)                     |\n",
       "|   3 | [hyperactive-programming](./3-hyperactive-programming.ipynb) |\n",
       "|   4 | [demolition](./4-demolition.ipynb)                           |\n",
       "|   5 | [dead-pixels](./5-dead-pixels.ipynb)                         |"
      ],
      "text/plain": [
       "<IPython.core.display.Markdown object>"
      ]
     },
     "metadata": {},
     "output_type": "display_data"
    },
    {
     "data": {
      "text/markdown": [
       "|   0 | 0                                                            |\n",
       "|----:|:-------------------------------------------------------------|\n",
       "|   1 | [skateparks](./1-skateparks.md.ipynb)                        |\n",
       "|   2 | [demonstration](./2-demonstration.ipynb)                     |\n",
       "|   3 | [hyperactive-programming](./3-hyperactive-programming.ipynb) |\n",
       "|   4 | [demolition](./4-demolition.ipynb)                           |\n",
       "|   5 | [dead-pixels](./5-dead-pixels.ipynb)                         |"
      ],
      "text/plain": [
       "<IPython.core.display.Markdown object>"
      ]
     },
     "execution_count": 1,
     "metadata": {},
     "output_type": "execute_result"
    },
    {
     "data": {
      "text/markdown": [
       "# Everything is code\n",
       "\n",
       "The ultimate goal of all ~art~ code is the building!\n",
       "\n",
       "reproducibility vs. literacy\n",
       "\n",
       "\n",
       "    from util import *\n",
       "    toc"
      ],
      "text/plain": [
       "<IPython.core.display.Markdown object>"
      ]
     },
     "metadata": {},
     "output_type": "display_data"
    }
   ],
   "source": [
    "# Everything is code\n",
    "\n",
    "The ultimate goal of all ~art~ code is the building!\n",
    "\n",
    "reproducibility vs. literacy\n",
    "\n",
    "\n",
    "    from util import *\n",
    "    toc"
   ]
  },
  {
   "cell_type": "code",
   "execution_count": 2,
   "metadata": {},
   "outputs": [
    {
     "data": {
      "text/markdown": [
       "    from util import *\n",
       "    i = 0"
      ],
      "text/plain": [
       "<IPython.core.display.Markdown object>"
      ]
     },
     "metadata": {},
     "output_type": "display_data"
    }
   ],
   "source": [
    "    from util import *\n",
    "    i = 0"
   ]
  },
  {
   "cell_type": "code",
   "execution_count": 3,
   "metadata": {},
   "outputs": [
    {
     "data": {
      "text/markdown": [
       "    %%replace \" and\": \" &\"\n",
       "    > The practitioner of literate programming can be re-garded as an essayist, whose main concern is with exposition \n",
       "    and excellence of style. Such an author, with\n",
       "    thesaurus in hand, chooses the names of variables care-fully and explains what each variable means. He or she\n",
       "    strives for a program that is comprehensible because its\n",
       "    concepts have been introduced in an order that is best\n",
       "    for human understanding, using a mixture of formal and informal methods that re ̈ınforce each other.\n",
       "\n",
       "    *lets fux with the typography\n",
       "    * ampersand instand of and"
      ],
      "text/plain": [
       "<IPython.core.display.Markdown object>"
      ]
     },
     "metadata": {},
     "output_type": "display_data"
    }
   ],
   "source": [
    "    %%replace \" and\": \" &\"\n",
    "    > The practitioner of literate programming can be re-garded as an essayist, whose main concern is with exposition \n",
    "    and excellence of style. Such an author, with\n",
    "    thesaurus in hand, chooses the names of variables care-fully and explains what each variable means. He or she\n",
    "    strives for a program that is comprehensible because its\n",
    "    concepts have been introduced in an order that is best\n",
    "    for human understanding, using a mixture of formal and informal methods that re ̈ınforce each other.\n",
    "\n",
    "    *lets fux with the typography\n",
    "    * ampersand instand of and"
   ]
  },
  {
   "cell_type": "code",
   "execution_count": null,
   "metadata": {},
   "outputs": [],
   "source": [
    "> The practitioner of literate programming can be re-garded as an essayist, whose main concern is with exposition \n",
    "and excellence of style. Such an author, with\n",
    "thesaurus in hand, chooses the names of variables care-fully & explains what each variable means. He or she\n",
    "strives for a program that is comprehensible because its\n",
    "concepts have been introduced in an order that is best\n",
    "for human understanding, using a mixture of formal & informal methods that re ̈ınforce each other.\n",
    "\n",
    "*lets fux with the typography\n",
    "* ampersand instand of &\n"
   ]
  },
  {
   "cell_type": "code",
   "execution_count": 4,
   "metadata": {},
   "outputs": [
    {
     "data": {
      "text/markdown": [
       "> The practitioner of literate programming can be re-garded as an essayist, whose main concern is with exposition \n",
       "and excellence of style. Such an author, with\n",
       "thesaurus in hand, chooses the names of variables care-fully & explains what each variable means. He or she\n",
       "strives for a program that is comprehensible because its\n",
       "concepts have been introduced in an order that is best\n",
       "for human understanding, using a mixture of formal & informal methods that re ̈ınforce each other."
      ],
      "text/plain": [
       "<IPython.core.display.Markdown object>"
      ]
     },
     "metadata": {},
     "output_type": "display_data"
    }
   ],
   "source": [
    "> The practitioner of literate programming can be re-garded as an essayist, whose main concern is with exposition \n",
    "and excellence of style. Such an author, with\n",
    "thesaurus in hand, chooses the names of variables care-fully & explains what each variable means. He or she\n",
    "strives for a program that is comprehensible because its\n",
    "concepts have been introduced in an order that is best\n",
    "for human understanding, using a mixture of formal & informal methods that re ̈ınforce each other."
   ]
  },
  {
   "cell_type": "code",
   "execution_count": 5,
   "metadata": {},
   "outputs": [
    {
     "data": {
      "text/markdown": [
       "## Literate programming\n",
       "\n",
       "<?xml version=\"1.0\" encoding=\"UTF-8\" standalone=\"no\"?><!DOCTYPE svg PUBLIC \"-//W3C//DTD SVG 1.1//EN\"\n",
       " \"http://www.w3.org/Graphics/SVG/1.1/DTD/svg11.dtd\"><!-- Generated by graphviz version 2.42.3 (20191010.1750)\n",
       " --><!-- Title: %3 Pages: 1 --><svg width=239pt height=98pt viewbox=\"0.00 0.00 238.89 98.00\" xmlns=http://www.w3.org/2000/svg xmlns:xlink=http://www.w3.org/1999/xlink><g id=graph0 class=graph transform=\"scale(1 1) rotate(0) translate(4 94)\"><title>%3</title><polygon fill=white stroke=transparent points=\"-4,4 -4,-94 234.89,-94 234.89,4 -4,4\"/><!-- source --><g id=node1 class=node><title>source</title><ellipse fill=none stroke=black cx=33.8 cy=-45 rx=33.6 ry=18 /><text text-anchor=middle x=33.8 y=-41.3 font-family=Times,serif font-size=14.00>source</text></g><!-- document --><g id=node2 class=node><title>document</title><ellipse fill=none stroke=black cx=184.74 cy=-72 rx=46.29 ry=18 /><text text-anchor=middle x=184.74 y=-68.3 font-family=Times,serif font-size=14.00>document</text></g><!-- source&#45;&gt;document --><g id=edge1 class=edge><title>source&#45;&gt;document</title><path fill=none stroke=black d=\"M66.02,-50.66C85.33,-54.16 110.57,-58.74 132.73,-62.75\"/><polygon fill=black stroke=black points=\"132.19,-66.21 142.66,-64.55 133.44,-59.32 132.19,-66.21\"/><text text-anchor=middle x=103.09 y=-63.8 font-family=Times,serif font-size=14.00>weave</text></g><!-- code --><g id=node3 class=node><title>code</title><ellipse fill=none stroke=black cx=184.74 cy=-18 rx=27.1 ry=18 /><text text-anchor=middle x=184.74 y=-14.3 font-family=Times,serif font-size=14.00>code</text></g><!-- source&#45;&gt;code --><g id=edge2 class=edge><title>source&#45;&gt;code</title><path fill=none stroke=black d=\"M65.67,-38.81C72.24,-37.52 79.14,-36.19 85.59,-35 106.16,-31.2 129.2,-27.19 147.78,-24.03\"/><polygon fill=black stroke=black points=\"148.61,-27.44 157.88,-22.31 147.44,-20.53 148.61,-27.44\"/><text text-anchor=middle x=103.09 y=-38.8 font-family=Times,serif font-size=14.00>tangle</text></g></g></svg>\n",
       "\n",
       "> The practitioner of literate programming can be re-garded as an essayist, whose main concern is with exposition \n",
       "and excellence of style. Such an author, with\n",
       "thesaurus in hand, chooses the names of variables care-fully & explains what each variable means. He or she\n",
       "strives for a program that is comprehensible because its\n",
       "concepts have been introduced in an order that is best\n",
       "for human understanding, using a mixture of formal & informal methods that re inforce each other.\n",
       "\n",
       "*mess with the type\n",
       "\n",
       "[The Computer Scientist Who Can’t Stop Telling Stories](https://www.quantamagazine.org/computer-scientist-donald-knuth-cant-stop-telling-stories-20200416/)\n",
       "\n",
       "The practitioner of literate programming can be re-garded as an essayist, whose\n",
       "[web]: http://www.literateprogramming.com/knuthweb.pdf\n",
       "    \n",
       "> I am imposing a moral commitmenton everyone who hears the term; surely nobody wants to admit writing an illiterate program.\n",
       "\n",
       "https://yakshav.es/the-patron-saint-of-yakshaves/\n",
       "![](https://i.makeagif.com/media/2-21-2015/5FmXL8.gif)"
      ],
      "text/plain": [
       "<IPython.core.display.Markdown object>"
      ]
     },
     "metadata": {},
     "output_type": "display_data"
    }
   ],
   "source": [
    "## Literate programming\n",
    "\n",
    "{{g(\"\"\"source->document[label=weave] source->code[label=tangle] rankdir=LR\"\"\")}}\n",
    "\n",
    "> The practitioner of literate programming can be re-garded as an essayist, whose main concern is with exposition \n",
    "and excellence of style. Such an author, with\n",
    "thesaurus in hand, chooses the names of variables care-fully & explains what each variable means. He or she\n",
    "strives for a program that is comprehensible because its\n",
    "concepts have been introduced in an order that is best\n",
    "for human understanding, using a mixture of formal & informal methods that re inforce each other.\n",
    "\n",
    "*mess with the type\n",
    "\n",
    "[The Computer Scientist Who Can’t Stop Telling Stories](https://www.quantamagazine.org/computer-scientist-donald-knuth-cant-stop-telling-stories-20200416/)\n",
    "\n",
    "The practitioner of literate programming can be re-garded as an essayist, whose\n",
    "[web]: http://www.literateprogramming.com/knuthweb.pdf\n",
    "    \n",
    "> I am imposing a moral commitmenton everyone who hears the term; surely nobody wants to admit writing an illiterate program.\n",
    "\n",
    "https://yakshav.es/the-patron-saint-of-yakshaves/\n",
    "![](https://i.makeagif.com/media/2-21-2015/5FmXL8.gif)"
   ]
  },
  {
   "cell_type": "code",
   "execution_count": 6,
   "metadata": {},
   "outputs": [
    {
     "data": {
      "text/markdown": [
       "## Literate computing\n",
       "\n",
       "From this perspective, we therefore refer to the worfklow exposed by these kinds of computational notebooks \n",
       "(not just IPython, but also Sage, Mathematica and others), as \"literate computing\": it is the weaving of a narrative.\n",
       "    \n",
       "    \n",
       "[\"Literate computing\" and computational reproducibility: IPython in the age of data-driven journalism](http://blog.fperez.org/2013/04/literate-computing-and-computational.html)\n",
       "\n",
       "\n",
       "[Jupyter meets the Earth: EarthCube Community Meeting](https://blog.jupyter.org/jupyter-meets-the-earth-earthcube-community-meeting-4bb9fb49cada)"
      ],
      "text/plain": [
       "<IPython.core.display.Markdown object>"
      ]
     },
     "metadata": {},
     "output_type": "display_data"
    }
   ],
   "source": [
    "## Literate computing\n",
    "\n",
    "From this perspective, we therefore refer to the worfklow exposed by these kinds of computational notebooks \n",
    "(not just IPython, but also Sage, Mathematica and others), as \"literate computing\": it is the weaving of a narrative.\n",
    "    \n",
    "    \n",
    "[\"Literate computing\" and computational reproducibility: IPython in the age of data-driven journalism](http://blog.fperez.org/2013/04/literate-computing-and-computational.html)\n",
    "\n",
    "\n",
    "[Jupyter meets the Earth: EarthCube Community Meeting](https://blog.jupyter.org/jupyter-meets-the-earth-earthcube-community-meeting-4bb9fb49cada)"
   ]
  },
  {
   "cell_type": "code",
   "execution_count": 7,
   "metadata": {},
   "outputs": [
    {
     "data": {
      "text/markdown": [
       "This presentation was written with ❤ in `#pidgy`"
      ],
      "text/plain": [
       "<IPython.core.display.Markdown object>"
      ]
     },
     "metadata": {},
     "output_type": "display_data"
    }
   ],
   "source": [
    "This presentation was written with ❤ in `#pidgy`"
   ]
  },
  {
   "cell_type": "code",
   "execution_count": 8,
   "metadata": {},
   "outputs": [
    {
     "data": {
      "text/markdown": [
       "## Testing ideas doing new tricks"
      ],
      "text/plain": [
       "<IPython.core.display.Markdown object>"
      ]
     },
     "metadata": {},
     "output_type": "display_data"
    }
   ],
   "source": [
    "## Testing ideas doing new tricks"
   ]
  },
  {
   "cell_type": "code",
   "execution_count": 9,
   "metadata": {},
   "outputs": [
    {
     "data": {
      "text/html": [
       "\n",
       "        <iframe\n",
       "            width=\"100%\"\n",
       "            height=\"700\"\n",
       "            src=\"https://docs.python-guide.org/writing/tests/\"\n",
       "            frameborder=\"0\"\n",
       "            allowfullscreen\n",
       "        ></iframe>\n",
       "        "
      ],
      "text/plain": [
       "<IPython.lib.display.IFrame at 0x7f52f1b02e90>"
      ]
     },
     "metadata": {},
     "output_type": "display_data"
    }
   ],
   "source": [
    "https://docs.python-guide.org/writing/tests/"
   ]
  },
  {
   "cell_type": "code",
   "execution_count": 10,
   "metadata": {},
   "outputs": [
    {
     "data": {
      "text/markdown": [
       "## `import importnb`\n",
       "\n",
       "## `importnb` is a key tool in the `#deathbeds` arsenal.\n",
       "\n",
       "A while ago we started using **notebooks as source**, changing our ability to collaboratively \n",
       "**build**, **test**, and **demo**"
      ],
      "text/plain": [
       "<IPython.core.display.Markdown object>"
      ]
     },
     "metadata": {},
     "output_type": "display_data"
    }
   ],
   "source": [
    "## `import importnb`\n",
    "\n",
    "## `importnb` is a key tool in the `#deathbeds` arsenal.\n",
    "\n",
    "A while ago we started using **notebooks as source**, changing our ability to collaboratively \n",
    "**build**, **test**, and **demo**"
   ]
  },
  {
   "cell_type": "code",
   "execution_count": 11,
   "metadata": {},
   "outputs": [
    {
     "data": {
      "text/markdown": [
       "## Testing 💩\n",
       "We share environemntsShare an environment\n",
       "\n",
       "1. Testing code <- tony is a scientist\n",
       "2. Testing the system <- nick is a systems engineer that cares about science\n",
       "\n",
       "https://github.com/deathbeds/wtf"
      ],
      "text/plain": [
       "<IPython.core.display.Markdown object>"
      ]
     },
     "metadata": {},
     "output_type": "display_data"
    }
   ],
   "source": [
    "## Testing 💩\n",
    "We share environemntsShare an environment\n",
    "\n",
    "1. Testing code <- tony is a scientist\n",
    "2. Testing the system <- nick is a systems engineer that cares about science\n",
    "\n",
    "https://github.com/deathbeds/wtf"
   ]
  },
  {
   "cell_type": "code",
   "execution_count": 12,
   "metadata": {},
   "outputs": [
    {
     "data": {
      "text/markdown": [
       "    import robot\n",
       "\n",
       "got a gif for this nick?\n",
       "\n",
       "### programming the browser with `robot` testing\n",
       "\n",
       "When `#deathbeds` builds UI, robotframework keeps us honest\n",
       "\n",
       "```robot\n",
       "*** Settings ***\n",
       "Library           JupyterLibrary\n",
       "Suite Setup       Wait for New Jupyter Server to be Ready\n",
       "Test Teardown     Reset JupyterLab and Close\n",
       "Suite Teardown    Terminate All Jupyter Servers\n",
       "\n",
       "*** Test Cases ***\n",
       "A Notebook in JupyterLab\n",
       "    Open JupyterLab\n",
       "    Launch a new JupyterLab Document\n",
       "    Add and Run JupyterLab Code Cell  print(\"hello world\")\n",
       "    Wait Until JupyterLab Kernel Is Idle\n",
       "    Capture Page Screenshot\n",
       "```"
      ],
      "text/plain": [
       "<IPython.core.display.Markdown object>"
      ]
     },
     "metadata": {},
     "output_type": "display_data"
    }
   ],
   "source": [
    "    import robot\n",
    "\n",
    "got a gif for this nick?\n",
    "\n",
    "### programming the browser with `robot` testing\n",
    "\n",
    "When `#deathbeds` builds UI, robotframework keeps us honest\n",
    "\n",
    "```robot\n",
    "*** Settings ***\n",
    "Library           JupyterLibrary\n",
    "Suite Setup       Wait for New Jupyter Server to be Ready\n",
    "Test Teardown     Reset JupyterLab and Close\n",
    "Suite Teardown    Terminate All Jupyter Servers\n",
    "\n",
    "*** Test Cases ***\n",
    "A Notebook in JupyterLab\n",
    "    Open JupyterLab\n",
    "    Launch a new JupyterLab Document\n",
    "    Add and Run JupyterLab Code Cell  print(\"hello world\")\n",
    "    Wait Until JupyterLab Kernel Is Idle\n",
    "    Capture Page Screenshot\n",
    "```"
   ]
  },
  {
   "cell_type": "code",
   "execution_count": 13,
   "metadata": {},
   "outputs": [
    {
     "data": {
      "text/markdown": [
       "## `__import__(\"IPython\").InteractiveShell`"
      ],
      "text/plain": [
       "<IPython.core.display.Markdown object>"
      ]
     },
     "metadata": {},
     "output_type": "display_data"
    }
   ],
   "source": [
    "## `__import__(\"IPython\").InteractiveShell`"
   ]
  },
  {
   "cell_type": "code",
   "execution_count": 14,
   "metadata": {},
   "outputs": [
    {
     "data": {
      "text/markdown": [
       "    i=0"
      ],
      "text/plain": [
       "<IPython.core.display.Markdown object>"
      ]
     },
     "metadata": {},
     "output_type": "display_data"
    }
   ],
   "source": [
    "    i=0"
   ]
  },
  {
   "cell_type": "code",
   "execution_count": 15,
   "metadata": {},
   "outputs": [
    {
     "data": {
      "text/markdown": [
       "### IPython inspection\n",
       "\n",
       "ha\n",
       "\n",
       "\n",
       "    i += 1\n",
       "!!!!!!\n",
       "fizz buzz if there is time"
      ],
      "text/plain": [
       "<IPython.core.display.Markdown object>"
      ]
     },
     "metadata": {},
     "output_type": "display_data"
    }
   ],
   "source": [
    "### IPython inspection\n",
    "\n",
    "{{\"ha\"*i}}\n",
    "\n",
    "\n",
    "    i += 1\n",
    "!!!!!!\n",
    "fizz buzz if there is time"
   ]
  },
  {
   "cell_type": "code",
   "execution_count": 16,
   "metadata": {},
   "outputs": [
    {
     "data": {
      "text/markdown": [
       "## Language server protocol\n",
       "\n",
       "not too deep!"
      ],
      "text/plain": [
       "<IPython.core.display.Markdown object>"
      ]
     },
     "metadata": {},
     "output_type": "display_data"
    }
   ],
   "source": [
    "## Language server protocol\n",
    "\n",
    "not too deep!"
   ]
  },
  {
   "cell_type": "code",
   "execution_count": 17,
   "metadata": {},
   "outputs": [
    {
     "data": {
      "text/markdown": [
       "### inspection"
      ],
      "text/plain": [
       "<IPython.core.display.Markdown object>"
      ]
     },
     "metadata": {},
     "output_type": "display_data"
    }
   ],
   "source": [
    "### inspection"
   ]
  },
  {
   "cell_type": "code",
   "execution_count": 18,
   "metadata": {},
   "outputs": [
    {
     "data": {
      "text/markdown": [
       "### completion"
      ],
      "text/plain": [
       "<IPython.core.display.Markdown object>"
      ]
     },
     "metadata": {},
     "output_type": "display_data"
    }
   ],
   "source": [
    "### completion"
   ]
  },
  {
   "cell_type": "code",
   "execution_count": 19,
   "metadata": {},
   "outputs": [
    {
     "data": {
      "text/markdown": [
       "### 100+ other things"
      ],
      "text/plain": [
       "<IPython.core.display.Markdown object>"
      ]
     },
     "metadata": {},
     "output_type": "display_data"
    }
   ],
   "source": [
    "### 100+ other things"
   ]
  },
  {
   "cell_type": "code",
   "execution_count": 20,
   "metadata": {},
   "outputs": [
    {
     "data": {
      "text/markdown": [
       "## Automating tasks\n",
       "\n",
       "💩💩.py\n",
       "doit\n",
       "dask"
      ],
      "text/plain": [
       "<IPython.core.display.Markdown object>"
      ]
     },
     "metadata": {},
     "output_type": "display_data"
    }
   ],
   "source": [
    "## Automating tasks\n",
    "\n",
    "💩💩.py\n",
    "doit\n",
    "dask\n"
   ]
  },
  {
   "cell_type": "code",
   "execution_count": 21,
   "metadata": {},
   "outputs": [
    {
     "data": {
      "text/markdown": [
       "## Takeaways\n",
       "\n",
       "* Choose community tools\n",
       "* There are many facets to demo code"
      ],
      "text/plain": [
       "<IPython.core.display.Markdown object>"
      ]
     },
     "metadata": {},
     "output_type": "display_data"
    }
   ],
   "source": [
    "## Takeaways\n",
    "\n",
    "* Choose community tools\n",
    "* There are many facets to demo code"
   ]
  }
 ],
 "metadata": {
  "kernelspec": {
   "display_name": "pidgy 3",
   "language": "python",
   "name": "pidgy"
  },
  "language_info": {
   "codemirror_mode": {
    "name": "ipython",
    "version": 3
   },
   "file_extension": ".py",
   "mimetype": "text/x-python",
   "name": "python",
   "nbconvert_exporter": "python",
   "pygments_lexer": "ipython3",
   "version": "3.7.7"
  }
 },
 "nbformat": 4,
 "nbformat_minor": 4
}
