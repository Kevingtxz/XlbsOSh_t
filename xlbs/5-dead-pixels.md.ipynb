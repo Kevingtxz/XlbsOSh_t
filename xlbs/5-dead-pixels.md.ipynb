{
 "cells": [
  {
   "cell_type": "code",
   "execution_count": 1,
   "metadata": {
    "jupyter": {
     "source_hidden": true
    }
   },
   "outputs": [
    {
     "data": {
      "text/html": [
       "<style>\n",
       ".jp-mod-presentationMode {\n",
       "    --jp-notebook-padding: 0;\n",
       "}\n",
       ".jp-RenderedHTMLCommon pre code {\n",
       "    opacity: 0.25;\n",
       "}\n",
       ".jp-Placeholder-content .jp-MoreHorizIcon {\n",
       "    background-size: 32px;\n",
       "}\n",
       "</style><style>\n",
       ".jp-mod-presentationMode .jp-SideBar,\n",
       ".jp-mod-presentationMode #jp-top-panel {\n",
       "    opacity: 0.0;\n",
       "    transition: all 0.2s;\n",
       "}\n",
       ".jp-mod-presentationMode .jp-SideBar:hover,\n",
       ".jp-mod-presentationMode #jp-top-panel:hover {\n",
       "    opacity: 0.9;\n",
       "    transition: all 0.2s;\n",
       "}</style><style>\n",
       ".jp-mod-presentationMode.jp-ApplicationShell,\n",
       ".jp-mod-presentationMode .p-TabBar-content{\n",
       "    background-color: var(--jp-layout-color0);\n",
       "}\n",
       "</style><style>\n",
       ".jp-mod-presentationMode .p-DockPanel-widget,\n",
       ".jp-mod-presentationMode #jp-left-stack, \n",
       ".jp-mod-presentationMode #jp-bottom-panel{\n",
       "    border-color: transparent;\n",
       "}\n",
       ".jp-mod-presentationMode .jp-Toolbar-item,\n",
       ".jp-mod-presentationMode .jp-Toolbar, \n",
       ".jp-mod-presentationMode #jp-bottom-panel {\n",
       "    opacity: 0.1;\n",
       "    transition: all 0.2s;\n",
       "}\n",
       ".jp-mod-presentationMode .jp-Toolbar-item:hover,\n",
       ".jp-mod-presentationMode .jp-Toolbar:hover, \n",
       ".jp-mod-presentationMode #jp-bottom-panel:hover {\n",
       "    opacity: 0.9;\n",
       "    transition: all 0.2s;\n",
       "}\n",
       "\n",
       ".jp-mod-presentationMode .jp-InputArea {\n",
       "    flex-direction: column;\n",
       "}\n",
       "\n",
       "</style><style>\n",
       ".jp-mod-presentationMode .jp-Notebook .jp-Cell .jp-InputPrompt, \n",
       ".jp-mod-presentationMode .jp-Notebook .jp-Cell .jp-OutputPrompt {\n",
       "    flex: 0 0 2rem !important;\n",
       "    opacity: 0;\n",
       "}\n",
       ".jp-mod-presentationMode .jp-Notebook .jp-Cell.jp-mod-active .jp-OutputPrompt,\n",
       ".jp-mod-presentationMode .jp-Notebook .jp-Cell.jp-mod-active .jp-OutputPrompt {\n",
       "    opacity: 0.5;\n",
       "}\n",
       ".jp-mod-presentationMode .jp-Notebook .jp-Cell .jp-InputPrompt, \n",
       ".jp-mod-presentationMode .jp-Notebook .jp-Cell .jp-OutputPrompt\n",
       "\n",
       ".jp-mod-presentationMode hr {\n",
       "    opacity: 0.1;\n",
       "}\n",
       "</style>\n",
       "<style>\n",
       ".jp-mod-presentationMode #jp-main-status-bar {\n",
       "    opacity: 0.06;\n",
       "    transition: all 0.2s;\n",
       "}\n",
       ".jp-mod-presentationMode #jp-main-status-bar:hover {\n",
       "    opacity: 0.8;\n",
       "    transition: all 0.2s;\n",
       "}\n",
       "</style>\n",
       "\n",
       "<style>\n",
       ".jp-mod-presentationMode .jp-TableOfContents header:not(:hover),\n",
       ".jp-mod-presentationMode .jp-TableOfContents .toc-toolbar:not(:hover) {\n",
       "    opacity: 0;\n",
       "}\n",
       ".jp-mod-presentationMode .jp-TableOfContents,\n",
       ".jp-mod-presentationMode .jp-TableOfContents-content {\n",
       "    background-color: transparent;\n",
       "}\n",
       "</style>\n",
       "    \n",
       "<style>\n",
       ".jp-mod-presentationMode  .jp-Cell-outputArea {\n",
       "    display: flex;\n",
       "    flex-direction: row;\n",
       "    flex-wrap: wrap;\n",
       "    justify-content: space-around;\n",
       "}\n",
       ".jp-mod-presentationMode  .jp-OutputArea-child {\n",
       "    padding: var(--jp-notebook-padding);\n",
       "    flex-basis: 50%;\n",
       "    flex-grow: 1;\n",
       "    flex-shrink: 1;\n",
       "}\n",
       ".jp-mod-presentationMode .jp-OutputArea-output img, \n",
       ".jp-mod-presentationMode .jp-OutputArea-output iframe , \n",
       ".jp-mod-presentationMode .jp-OutputArea-output svg {\n",
       "    filter: grayscale(100%)  invert(0%);\n",
       "    transition: all 2s;\n",
       "    width: 100%;\n",
       "    max-height: 80vh;\n",
       "}\n",
       "\n",
       ".jp-mod-presentationMode .jp-OutputArea-output img:hover, \n",
       ".jp-mod-presentationMode .jp-OutputArea-output iframe:hover , \n",
       ".jp-mod-presentationMode .jp-OutputArea-output svg:hover {\n",
       "    filter: grayscale(100%)  invert(100%);\n",
       "    transition: all 800ms;\n",
       "}\n",
       "</style>\n",
       "    "
      ],
      "text/plain": [
       "<IPython.core.display.HTML object>"
      ]
     },
     "metadata": {},
     "output_type": "display_data"
    },
    {
     "data": {
      "text/plain": [
       "<module '__style__' from '/home/tonyfast/Documents/XlbsOSh_t/xlbs/__style__.md.ipynb'>"
      ]
     },
     "metadata": {},
     "output_type": "display_data"
    },
    {
     "data": {
      "text/markdown": [
       "|   0 | 0                                                               |\n",
       "|----:|:----------------------------------------------------------------|\n",
       "|   1 | [skateparks](./1-skateparks.md.ipynb)                           |\n",
       "|   2 | [demonstration](./2-demonstration.md.ipynb)                     |\n",
       "|   3 | [hyperactive-programming](./3-hyperactive-programming.md.ipynb) |\n",
       "|   4 | [demolition](./4-demolition.md.ipynb)                           |\n",
       "|   5 | [dead-pixels](./5-dead-pixels.md.ipynb)                         |"
      ],
      "text/plain": [
       "<IPython.core.display.Markdown object>"
      ]
     },
     "execution_count": 1,
     "metadata": {},
     "output_type": "execute_result"
    },
    {
     "data": {
      "text/markdown": [
       "# we kill it to bring you 🎁\n",
       "\n",
       "> ## we made `#_fam` for you!\n",
       "> ## get your shread on.\n",
       "\n",
       "\n",
       "    from util import *\n",
       "    toc"
      ],
      "text/plain": [
       "<IPython.core.display.Markdown object>"
      ]
     },
     "metadata": {},
     "output_type": "display_data"
    }
   ],
   "source": [
    "# we kill it to bring you 🎁\n",
    "\n",
    "> ## we made `#_fam` for you!\n",
    "> ## get your shread on.\n",
    "\n",
    "\n",
    "    from util import *\n",
    "    toc"
   ]
  },
  {
   "cell_type": "markdown",
   "metadata": {},
   "source": [
    "## deathbeds is free puppies"
   ]
  },
  {
   "cell_type": "code",
   "execution_count": 2,
   "metadata": {
    "jupyter": {
     "source_hidden": true
    }
   },
   "outputs": [
    {
     "data": {
      "text/markdown": [
       "# dead pixels\n",
       "\n",
       "> ## Takeaways\n",
       ">> that follow your audience home, to become part of their \n",
       "> ## Digital Literacy \n",
       ">> so they can\n",
       "> ## Go shred."
      ],
      "text/plain": [
       "<IPython.core.display.Markdown object>"
      ]
     },
     "metadata": {},
     "output_type": "display_data"
    }
   ],
   "source": [
    "# dead pixels\n",
    "\n",
    "> ## Takeaways\n",
    ">> that follow your audience home, to become part of their \n",
    "> ## Digital Literacy \n",
    ">> so they can\n",
    "> ## Go shred."
   ]
  },
  {
   "cell_type": "code",
   "execution_count": 3,
   "metadata": {
    "jupyter": {
     "source_hidden": true
    }
   },
   "outputs": [
    {
     "data": {
      "text/markdown": [
       "## Any given Friday.\n",
       "\n",
       "# Host a demo day\n",
       "\n",
       "### Jupyter\n",
       "### Conda\n",
       "\n",
       "### Gist\n",
       "\n",
       "A very low-friction way to get a quality URL with history, comments, and versioning.\n",
       "\n",
       "### nbviewer \n",
       "\n",
       "A solid, no-build solution for reproducible publication.\n",
       "\n",
       "### binder\n",
       "\n",
       "Brought to you by..."
      ],
      "text/plain": [
       "<IPython.core.display.Markdown object>"
      ]
     },
     "metadata": {},
     "output_type": "display_data"
    }
   ],
   "source": [
    "## Any given Friday.\n",
    "\n",
    "# Host a demo day\n",
    "\n",
    "### Jupyter\n",
    "### Conda\n",
    "\n",
    "### Gist\n",
    "\n",
    "A very low-friction way to get a quality URL with history, comments, and versioning.\n",
    "\n",
    "### nbviewer \n",
    "\n",
    "A solid, no-build solution for reproducible publication.\n",
    "\n",
    "### binder\n",
    "\n",
    "Brought to you by..."
   ]
  },
  {
   "cell_type": "code",
   "execution_count": 4,
   "metadata": {
    "jupyter": {
     "source_hidden": true
    }
   },
   "outputs": [
    {
     "data": {
      "text/markdown": [
       "## Your next move\n",
       "\n",
       "- Do some tricks\n",
       "- Organize a demo day.\n",
       "- Formalize notebooks as tests.\n",
       "- Write the code you want to read.\n",
       "- Have fun programming, like real fun, express yourself."
      ],
      "text/plain": [
       "<IPython.core.display.Markdown object>"
      ]
     },
     "metadata": {},
     "output_type": "display_data"
    }
   ],
   "source": [
    "## Your next move\n",
    "\n",
    "- Do some tricks\n",
    "- Organize a demo day.\n",
    "- Formalize notebooks as tests.\n",
    "- Write the code you want to read.\n",
    "- Have fun programming, like real fun, express yourself."
   ]
  }
 ],
 "metadata": {
  "kernelspec": {
   "display_name": "pidgy 3",
   "language": "python",
   "name": "pidgy"
  },
  "language_info": {
   "codemirror_mode": {
    "name": "ipython",
    "version": 3
   },
   "file_extension": ".py",
   "mimetype": "text/x-python",
   "name": "python",
   "nbconvert_exporter": "python",
   "pygments_lexer": "ipython3",
   "version": "3.7.7"
  }
 },
 "nbformat": 4,
 "nbformat_minor": 4
}
