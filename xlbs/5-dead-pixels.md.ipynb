{
 "cells": [
  {
   "cell_type": "code",
   "execution_count": 8,
   "metadata": {},
   "outputs": [
    {
     "data": {
      "text/markdown": [
       "|   0 | 0                                                            |\n",
       "|----:|:-------------------------------------------------------------|\n",
       "|   1 | [skateparks](./1-skateparks.md.ipynb)                        |\n",
       "|   2 | [demonstration](./2-demonstration.ipynb)                     |\n",
       "|   3 | [hyperactive-programming](./3-hyperactive-programming.ipynb) |\n",
       "|   4 | [demolition](./4-demolition.ipynb)                           |\n",
       "|   5 | [dead-pixels](./5-dead-pixels.ipynb)                         |"
      ],
      "text/plain": [
       "<IPython.core.display.Markdown object>"
      ]
     },
     "execution_count": 8,
     "metadata": {},
     "output_type": "execute_result"
    },
    {
     "data": {
      "text/markdown": [
       "# we kill it to bring you gifts.\n",
       "\n",
       "> ## we made `#_fam` for you!\n",
       "> ## get your shread on.\n",
       "\n",
       "\n",
       "    from util import *\n",
       "    toc"
      ],
      "text/plain": [
       "<IPython.core.display.Markdown object>"
      ]
     },
     "metadata": {},
     "output_type": "display_data"
    }
   ],
   "source": [
    "# we kill it to bring you gifts.\n",
    "\n",
    "> ## we made `#_fam` for you!\n",
    "> ## get your shread on.\n",
    "\n",
    "\n",
    "    from util import *\n",
    "    toc"
   ]
  },
  {
   "cell_type": "markdown",
   "metadata": {},
   "source": [
    "## deathbeds is free puppies"
   ]
  },
  {
   "cell_type": "code",
   "execution_count": 3,
   "metadata": {},
   "outputs": [
    {
     "data": {
      "text/markdown": [
       "## Reproducability is political, literacy is not."
      ],
      "text/plain": [
       "<IPython.core.display.Markdown object>"
      ]
     },
     "metadata": {},
     "output_type": "display_data"
    }
   ],
   "source": [
    "## Reproducability is political, literacy is not."
   ]
  },
  {
   "cell_type": "code",
   "execution_count": 1,
   "metadata": {
    "jupyter": {
     "source_hidden": true
    }
   },
   "outputs": [
    {
     "data": {
      "text/markdown": [
       "# dead pixels\n",
       "\n",
       "> ## Takeaways\n",
       ">> that follow your audience home, to become part of their \n",
       "> ## Digital Literacy \n",
       ">> so they can\n",
       "> ## Go shred."
      ],
      "text/plain": [
       "<IPython.core.display.Markdown object>"
      ]
     },
     "metadata": {},
     "output_type": "display_data"
    }
   ],
   "source": [
    "# dead pixels\n",
    "\n",
    "> ## Takeaways\n",
    ">> that follow your audience home, to become part of their \n",
    "> ## Digital Literacy \n",
    ">> so they can\n",
    "> ## Go shred."
   ]
  },
  {
   "cell_type": "code",
   "execution_count": 4,
   "metadata": {},
   "outputs": [
    {
     "data": {
      "text/markdown": [
       "## Any given Friday."
      ],
      "text/plain": [
       "<IPython.core.display.Markdown object>"
      ]
     },
     "metadata": {},
     "output_type": "display_data"
    }
   ],
   "source": [
    "## Any given Friday."
   ]
  },
  {
   "cell_type": "code",
   "execution_count": null,
   "metadata": {},
   "outputs": [],
   "source": [
    "what can you use today.\n",
    "\n",
    "summarize the major themes structures\n",
    "\n",
    "* Jupyter\n",
    "* Binder\n",
    "* Conda"
   ]
  },
  {
   "cell_type": "code",
   "execution_count": 2,
   "metadata": {},
   "outputs": [
    {
     "data": {
      "text/markdown": [
       "> Think about asking for something like these for your organization\n",
       "\n",
       "### Gist\n",
       "\n",
       "A very low-friction way to get a quality URL with history, comments, and versioning.\n",
       "\n",
       "### nbviewer \n",
       "\n",
       "A solid, no-build solution for reproducible publication.\n",
       "\n",
       "### binder\n",
       "\n",
       "Brought to you by...\n",
       "\n",
       "### tests \n",
       "\n",
       "https://github.com/deathbeds/wtf\n",
       "\n",
       "### schema\n",
       "> whats in a schema\n",
       "\n",
       "https://github.com/deathbeds/expectorate"
      ],
      "text/plain": [
       "<IPython.core.display.Markdown object>"
      ]
     },
     "metadata": {},
     "output_type": "display_data"
    }
   ],
   "source": [
    "> Think about asking for something like these for your organization\n",
    "\n",
    "### Gist\n",
    "\n",
    "A very low-friction way to get a quality URL with history, comments, and versioning.\n",
    "\n",
    "### nbviewer \n",
    "\n",
    "A solid, no-build solution for reproducible publication.\n",
    "\n",
    "### binder\n",
    "\n",
    "Brought to you by...\n",
    "\n",
    "### tests \n",
    "\n",
    "https://github.com/deathbeds/wtf\n",
    "\n",
    "### schema\n",
    "> whats in a schema\n",
    "\n",
    "https://github.com/deathbeds/expectorate"
   ]
  },
  {
   "cell_type": "code",
   "execution_count": 3,
   "metadata": {
    "jupyter": {
     "source_hidden": true
    }
   },
   "outputs": [
    {
     "data": {
      "text/markdown": [
       "## Your next move\n",
       "\n",
       "- Do some tricks\n",
       "- Organize a demo day.\n",
       "- Formalize notebooks as tests.\n",
       "- Write the code you want to read."
      ],
      "text/plain": [
       "<IPython.core.display.Markdown object>"
      ]
     },
     "metadata": {},
     "output_type": "display_data"
    }
   ],
   "source": [
    "## Your next move\n",
    "\n",
    "- Do some tricks\n",
    "- Organize a demo day.\n",
    "- Formalize notebooks as tests.\n",
    "- Write the code you want to read."
   ]
  }
 ],
 "metadata": {
  "kernelspec": {
   "display_name": "pidgy 3",
   "language": "python",
   "name": "pidgy"
  },
  "language_info": {
   "codemirror_mode": {
    "name": "ipython",
    "version": 3
   },
   "file_extension": ".py",
   "mimetype": "text/x-python",
   "name": "python",
   "nbconvert_exporter": "python",
   "pygments_lexer": "ipython3",
   "version": "3.7.7"
  }
 },
 "nbformat": 4,
 "nbformat_minor": 4
}
