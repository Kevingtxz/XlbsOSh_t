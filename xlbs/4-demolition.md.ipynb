{
 "cells": [
  {
   "cell_type": "markdown",
   "metadata": {},
   "source": [
    "> # demolition (n.)\n",
    "\n",
    ">> 1540s, figurative, \"destruction, overthrow;\" 1610s, literal, \n",
    ">> \"action of pulling down or destroying (a structure); fact of being demolished,\" \n",
    ">> from French _demolition_ \"demolition; defeat, rout\" (14c.), from Latin \n",
    ">> _demolitionem_ (nominative _demolitio_), noun of action from past-participle stem of _demoliri_ \n",
    "> ## \"to tear down,\" \n",
    ">> from de \"down\" (see de-) + _moliri_ \n",
    "> ## \"build, construct,\" \n",
    ">> from _moles_ (genitive _molis_) \n",
    "> ## \"massive structure\"\n",
    ">> (see _mole_ (n.3)).\n",
    "> \n",
    "> https://www.etymonline.com/word/demolition\n",
    "    \n",
    "    \n",
    "    from util import *\n",
    "    toc"
   ]
  },
  {
   "cell_type": "code",
   "execution_count": 2,
   "metadata": {
    "jupyter": {
     "source_hidden": true
    }
   },
   "outputs": [
    {
     "data": {
      "text/markdown": [
       "kill that binder after this demo\n",
       "\n",
       "Gropius architecture\n",
       "Massive structures"
      ],
      "text/plain": [
       "<IPython.core.display.Markdown object>"
      ]
     },
     "metadata": {},
     "output_type": "display_data"
    }
   ],
   "source": [
    "kill that binder after this demo\n",
    "\n",
    "Gropius architecture\n",
    "Massive structures"
   ]
  },
  {
   "cell_type": "code",
   "execution_count": 3,
   "metadata": {
    "jupyter": {
     "source_hidden": true
    }
   },
   "outputs": [
    {
     "data": {
      "text/markdown": [
       "compute into a place."
      ],
      "text/plain": [
       "<IPython.core.display.Markdown object>"
      ]
     },
     "metadata": {},
     "output_type": "display_data"
    }
   ],
   "source": [
    "compute into a place."
   ]
  },
  {
   "cell_type": "code",
   "execution_count": 4,
   "metadata": {},
   "outputs": [
    {
     "data": {
      "text/markdown": [
       "    import util"
      ],
      "text/plain": [
       "<IPython.core.display.Markdown object>"
      ]
     },
     "metadata": {},
     "output_type": "display_data"
    }
   ],
   "source": [
    "    import util"
   ]
  },
  {
   "cell_type": "code",
   "execution_count": 6,
   "metadata": {
    "jupyter": {
     "source_hidden": true
    }
   },
   "outputs": [
    {
     "data": {
      "text/markdown": [
       "## What are the new massive structures?"
      ],
      "text/plain": [
       "<IPython.core.display.Markdown object>"
      ]
     },
     "metadata": {},
     "output_type": "display_data"
    }
   ],
   "source": [
    "## What are the new massive structures?"
   ]
  },
  {
   "cell_type": "code",
   "execution_count": 7,
   "metadata": {
    "jupyter": {
     "source_hidden": true
    }
   },
   "outputs": [
    {
     "data": {
      "text/markdown": [
       "## conda ![](https://avatars3.githubusercontent.com/u/11897326?v=4&s=60) forge is the foundry.\n",
       "\n",
       "> conda forge data\n",
       "\n",
       "### [County Fare][county-fair]\n",
       "\n",
       "[![aarch-ppc]][aarch-ppc]\n",
       "\n",
       "[county-fair]: https://github.com/regro/cf-graph-countyfair\n",
       "[aarch-ppc]: https://raw.githubusercontent.com/regro/cf-graph-countyfair/master/status/aarch64andppc64leaddition.svg?sanitize=true"
      ],
      "text/plain": [
       "<IPython.core.display.Markdown object>"
      ]
     },
     "metadata": {},
     "output_type": "display_data"
    }
   ],
   "source": [
    "## conda ![]({{util.avatar('conda-forge')}}&s=60) forge is the foundry.\n",
    "\n",
    "> conda forge data\n",
    "\n",
    "### [County Fare][county-fair]\n",
    "\n",
    "[![aarch-ppc]][aarch-ppc]\n",
    "\n",
    "[county-fair]: https://github.com/regro/cf-graph-countyfair\n",
    "[aarch-ppc]: https://raw.githubusercontent.com/regro/cf-graph-countyfair/master/status/aarch64andppc64leaddition.svg?sanitize=true"
   ]
  },
  {
   "cell_type": "code",
   "execution_count": 8,
   "metadata": {
    "jupyter": {
     "source_hidden": true
    }
   },
   "outputs": [
    {
     "data": {
      "text/markdown": [
       "## fam is place\n",
       "\n",
       "look at the conda forge history of fam\n",
       "https://gist.github.com/tonyfast/e44adc539b3c6d1e7dad4687fb6437a9\n",
       "https://gist.github.com/tonyfast/9bc79ddb7200e77394f546bc69e11c6f\n",
       "    \n",
       "binder is the power\n",
       "\n",
       "It has a lot of rooms:\n",
       "drawio is a room\n",
       "notebook is a room\n",
       "robot is your iot\n",
       "wxyz and widgets are your appliances"
      ],
      "text/plain": [
       "<IPython.core.display.Markdown object>"
      ]
     },
     "metadata": {},
     "output_type": "display_data"
    }
   ],
   "source": [
    "## fam is place\n",
    "\n",
    "look at the conda forge history of fam\n",
    "https://gist.github.com/tonyfast/e44adc539b3c6d1e7dad4687fb6437a9\n",
    "https://gist.github.com/tonyfast/9bc79ddb7200e77394f546bc69e11c6f\n",
    "    \n",
    "binder is the power\n",
    "\n",
    "It has a lot of rooms:\n",
    "drawio is a room\n",
    "notebook is a room\n",
    "robot is your iot\n",
    "wxyz and widgets are your appliances"
   ]
  },
  {
   "cell_type": "code",
   "execution_count": null,
   "metadata": {
    "jupyter": {
     "source_hidden": true
    }
   },
   "outputs": [],
   "source": [
    "drawio"
   ]
  },
  {
   "cell_type": "code",
   "execution_count": null,
   "metadata": {
    "jupyter": {
     "source_hidden": true
    }
   },
   "outputs": [],
   "source": [
    "# massive structures\n",
    "\n",
    "_fam\n",
    "robotlab\n",
    "wxyz\n",
    "conda-forge"
   ]
  }
 ],
 "metadata": {
  "kernelspec": {
   "display_name": "pidgy 3",
   "language": "python",
   "name": "pidgy"
  },
  "language_info": {
   "codemirror_mode": {
    "name": "ipython",
    "version": 3
   },
   "file_extension": ".py",
   "mimetype": "text/x-python",
   "name": "python",
   "nbconvert_exporter": "python",
   "pygments_lexer": "ipython3",
   "version": "3.7.7"
  },
  "toc-autonumbering": true,
  "toc-showtags": false
 },
 "nbformat": 4,
 "nbformat_minor": 4
}
