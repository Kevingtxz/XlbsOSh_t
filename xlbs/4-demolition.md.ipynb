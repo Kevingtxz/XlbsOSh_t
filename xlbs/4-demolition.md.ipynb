{
 "cells": [
  {
   "cell_type": "code",
   "execution_count": null,
   "metadata": {},
   "outputs": [],
   "source": []
  },
  {
   "cell_type": "code",
   "execution_count": 1,
   "metadata": {},
   "outputs": [
    {
     "data": {
      "text/html": [
       "<style>\n",
       ".jp-mod-presentationMode {\n",
       "    --jp-notebook-padding: 0;\n",
       "}\n",
       ".jp-RenderedHTMLCommon pre code {\n",
       "    opacity: 0.25;\n",
       "}\n",
       ".jp-Placeholder-content .jp-MoreHorizIcon {\n",
       "    background-size: 32px;\n",
       "}\n",
       "</style><style>\n",
       ".jp-mod-presentationMode .jp-SideBar,\n",
       ".jp-mod-presentationMode #jp-top-panel {\n",
       "    opacity: 0.0;\n",
       "    transition: all 0.2s;\n",
       "}\n",
       ".jp-mod-presentationMode .jp-SideBar:hover,\n",
       ".jp-mod-presentationMode #jp-top-panel:hover {\n",
       "    opacity: 0.9;\n",
       "    transition: all 0.2s;\n",
       "}</style><style>\n",
       ".jp-mod-presentationMode.jp-ApplicationShell,\n",
       ".jp-mod-presentationMode .p-TabBar-content{\n",
       "    background-color: var(--jp-layout-color0);\n",
       "}\n",
       "</style><style>\n",
       ".jp-mod-presentationMode .p-DockPanel-widget,\n",
       ".jp-mod-presentationMode #jp-left-stack, \n",
       ".jp-mod-presentationMode #jp-bottom-panel{\n",
       "    border-color: transparent;\n",
       "}\n",
       ".jp-mod-presentationMode .jp-Toolbar-item,\n",
       ".jp-mod-presentationMode .jp-Toolbar, \n",
       ".jp-mod-presentationMode #jp-bottom-panel {\n",
       "    opacity: 0.1;\n",
       "    transition: all 0.2s;\n",
       "}\n",
       ".jp-mod-presentationMode .jp-Toolbar-item:hover,\n",
       ".jp-mod-presentationMode .jp-Toolbar:hover, \n",
       ".jp-mod-presentationMode #jp-bottom-panel:hover {\n",
       "    opacity: 0.9;\n",
       "    transition: all 0.2s;\n",
       "}\n",
       "\n",
       ".jp-mod-presentationMode .jp-InputArea {\n",
       "    flex-direction: column;\n",
       "}\n",
       "\n",
       "</style><style>\n",
       ".jp-mod-presentationMode .jp-Notebook .jp-Cell .jp-InputPrompt, \n",
       ".jp-mod-presentationMode .jp-Notebook .jp-Cell .jp-OutputPrompt {\n",
       "    flex: 0 0 2rem !important;\n",
       "    opacity: 0;\n",
       "}\n",
       ".jp-mod-presentationMode .jp-Notebook .jp-Cell.jp-mod-active .jp-OutputPrompt,\n",
       ".jp-mod-presentationMode .jp-Notebook .jp-Cell.jp-mod-active .jp-OutputPrompt {\n",
       "    opacity: 0.5;\n",
       "}\n",
       ".jp-mod-presentationMode .jp-Notebook .jp-Cell .jp-InputPrompt, \n",
       ".jp-mod-presentationMode .jp-Notebook .jp-Cell .jp-OutputPrompt\n",
       "\n",
       ".jp-mod-presentationMode hr {\n",
       "    opacity: 0.1;\n",
       "}\n",
       "</style>\n",
       "<style>\n",
       ".jp-mod-presentationMode #jp-main-status-bar {\n",
       "    opacity: 0.06;\n",
       "    transition: all 0.2s;\n",
       "}\n",
       ".jp-mod-presentationMode #jp-main-status-bar:hover {\n",
       "    opacity: 0.8;\n",
       "    transition: all 0.2s;\n",
       "}\n",
       "</style>\n",
       "\n",
       "<style>\n",
       ".jp-mod-presentationMode .jp-TableOfContents header:not(:hover),\n",
       ".jp-mod-presentationMode .jp-TableOfContents .toc-toolbar:not(:hover) {\n",
       "    opacity: 0;\n",
       "}\n",
       ".jp-mod-presentationMode .jp-TableOfContents,\n",
       ".jp-mod-presentationMode .jp-TableOfContents-content {\n",
       "    background-color: transparent;\n",
       "}\n",
       "</style>\n",
       "    \n",
       "<style>\n",
       ".jp-mod-presentationMode  .jp-Cell-outputArea {\n",
       "    display: flex;\n",
       "    flex-direction: row;\n",
       "    flex-wrap: wrap;\n",
       "    justify-content: space-around;\n",
       "}\n",
       ".jp-mod-presentationMode  .jp-OutputArea-child {\n",
       "    padding: var(--jp-notebook-padding);\n",
       "    flex-basis: 50%;\n",
       "    flex-grow: 1;\n",
       "    flex-shrink: 1;\n",
       "}\n",
       ".jp-mod-presentationMode .jp-OutputArea-output img, \n",
       ".jp-mod-presentationMode .jp-OutputArea-output iframe , \n",
       ".jp-mod-presentationMode .jp-OutputArea-output svg {\n",
       "    filter: grayscale(100%)  invert(0%);\n",
       "    transition: all 2s;\n",
       "    width: 100%;\n",
       "    max-height: 80vh;\n",
       "}\n",
       "\n",
       ".jp-mod-presentationMode .jp-OutputArea-output img:hover, \n",
       ".jp-mod-presentationMode .jp-OutputArea-output iframe:hover , \n",
       ".jp-mod-presentationMode .jp-OutputArea-output svg:hover {\n",
       "    filter: grayscale(100%)  invert(100%);\n",
       "    transition: all 800ms;\n",
       "}\n",
       "</style>\n",
       "    "
      ],
      "text/plain": [
       "<IPython.core.display.HTML object>"
      ]
     },
     "metadata": {},
     "output_type": "display_data"
    },
    {
     "data": {
      "text/plain": [
       "<module '__style__' from '/home/tonyfast/Documents/XlbsOSh_t/xlbs/__style__.md.ipynb'>"
      ]
     },
     "metadata": {},
     "output_type": "display_data"
    },
    {
     "data": {
      "text/markdown": [
       "![](./img/Demolition.jpg) ![](./img/Demolition_BSide.jpg)\n",
       "\n",
       "> # demolition (n.)\n",
       "\n",
       ">> 1540s, figurative, \"destruction, overthrow;\" 1610s, literal, \n",
       ">> \"action of pulling down or destroying (a structure); fact of being demolished,\" \n",
       ">> from French _demolition_ \"demolition; defeat, rout\" (14c.), from Latin \n",
       ">> _demolitionem_ (nominative _demolitio_), noun of action from past-participle stem of _demoliri_ \n",
       "> ## \"to tear down,\" \n",
       ">> from de \"down\" (see de-) + _moliri_ \n",
       "> ## \"build, construct,\" \n",
       ">> from _moles_ (genitive _molis_) \n",
       "> ## \"massive structure\"\n",
       ">> (see _mole_ (n.3)).\n",
       "> \n",
       "> https://www.etymonline.com/word/demolition\n",
       "    \n",
       "\n",
       "    \n",
       "    from util import *\n",
       "    #toc"
      ],
      "text/plain": [
       "<IPython.core.display.Markdown object>"
      ]
     },
     "metadata": {},
     "output_type": "display_data"
    }
   ],
   "source": [
    "![](./img/Demolition.jpg) ![](./img/Demolition_BSide.jpg)\n",
    "\n",
    "> # demolition (n.)\n",
    "\n",
    ">> 1540s, figurative, \"destruction, overthrow;\" 1610s, literal, \n",
    ">> \"action of pulling down or destroying (a structure); fact of being demolished,\" \n",
    ">> from French _demolition_ \"demolition; defeat, rout\" (14c.), from Latin \n",
    ">> _demolitionem_ (nominative _demolitio_), noun of action from past-participle stem of _demoliri_ \n",
    "> ## \"to tear down,\" \n",
    ">> from de \"down\" (see de-) + _moliri_ \n",
    "> ## \"build, construct,\" \n",
    ">> from _moles_ (genitive _molis_) \n",
    "> ## \"massive structure\"\n",
    ">> (see _mole_ (n.3)).\n",
    "> \n",
    "> https://www.etymonline.com/word/demolition\n",
    "    \n",
    "\n",
    "    \n",
    "    from util import *\n",
    "    #toc"
   ]
  },
  {
   "cell_type": "code",
   "execution_count": 2,
   "metadata": {},
   "outputs": [
    {
     "data": {
      "text/markdown": [
       "## post-modern massive structures"
      ],
      "text/plain": [
       "<IPython.core.display.Markdown object>"
      ]
     },
     "metadata": {},
     "output_type": "display_data"
    }
   ],
   "source": [
    "## post-modern massive structures"
   ]
  },
  {
   "cell_type": "code",
   "execution_count": 3,
   "metadata": {},
   "outputs": [
    {
     "data": {
      "text/markdown": [
       "## 🙏 conda ![](https://avatars3.githubusercontent.com/u/11897326?v=4&s=60) forge.\n",
       "\n",
       "> conda forge data\n",
       "\n",
       "    ### [County Fare][county-fair] for `#aarch64` and `#ppc` migration\n",
       "\n",
       "[![aarch-ppc]][aarch-ppc]\n",
       "\n",
       "[county-fair]: https://github.com/regro/cf-graph-countyfair\n",
       "[aarch-ppc]: https://raw.githubusercontent.com/regro/cf-graph-countyfair/master/status/aarch64andppc64leaddition.svg?sanitize=true"
      ],
      "text/plain": [
       "<IPython.core.display.Markdown object>"
      ]
     },
     "metadata": {},
     "output_type": "display_data"
    }
   ],
   "source": [
    "## 🙏 conda ![]({{avatar('conda-forge')}}&s=60) forge.\n",
    "\n",
    "> conda forge data\n",
    "\n",
    "    ### [County Fare][county-fair] for `#aarch64` and `#ppc` migration\n",
    "\n",
    "[![aarch-ppc]][aarch-ppc]\n",
    "\n",
    "[county-fair]: https://github.com/regro/cf-graph-countyfair\n",
    "[aarch-ppc]: https://raw.githubusercontent.com/regro/cf-graph-countyfair/master/status/aarch64andppc64leaddition.svg?sanitize=true"
   ]
  },
  {
   "cell_type": "code",
   "execution_count": 4,
   "metadata": {},
   "outputs": [
    {
     "data": {
      "text/markdown": [
       "## `#_fam` is place\n",
       "### A place for friends\n",
       "## who compute\n",
       "\n",
       "![](https://typeset-beta.imgix.net/rehost/2017/1/25/1745c5a1-a454-470f-b863-ec28866b96b1.gif?w=740&h=591&fit=max&auto=format)\n",
       "\n",
       "look at the conda forge history of `#_fam`\n",
       "\n",
       "- https://gist.github.com/tonyfast/e44adc539b3c6d1e7dad4687fb6437a9\n",
       "- https://gist.github.com/tonyfast/9bc79ddb7200e77394f546bc69e11c6f\n",
       "    \n",
       "### binder keeps the 💡💡💡💡 on\n",
       "\n",
       "It has a lot of rooms:\n",
       "- drawio is a room\n",
       "- notebook is a room\n",
       "- hell we even go a console ~📺~\n",
       "- robot is your iot\n",
       "- wxyz and widgets are your appliances"
      ],
      "text/plain": [
       "<IPython.core.display.Markdown object>"
      ]
     },
     "metadata": {},
     "output_type": "display_data"
    }
   ],
   "source": [
    "## `#_fam` is place\n",
    "### A place for friends\n",
    "## who compute\n",
    "\n",
    "![](https://typeset-beta.imgix.net/rehost/2017/1/25/1745c5a1-a454-470f-b863-ec28866b96b1.gif?w=740&h=591&fit=max&auto=format)\n",
    "\n",
    "look at the conda forge history of `#_fam`\n",
    "\n",
    "- https://gist.github.com/tonyfast/e44adc539b3c6d1e7dad4687fb6437a9\n",
    "- https://gist.github.com/tonyfast/9bc79ddb7200e77394f546bc69e11c6f\n",
    "    \n",
    "### binder keeps the 💡💡💡💡 on\n",
    "\n",
    "It has a lot of rooms:\n",
    "- drawio is a room\n",
    "- notebook is a room\n",
    "- hell we even go a console ~📺~\n",
    "- robot is your iot\n",
    "- wxyz and widgets are your appliances"
   ]
  },
  {
   "cell_type": "code",
   "execution_count": 5,
   "metadata": {},
   "outputs": [
    {
     "data": {
      "text/html": [
       "\n",
       "        <iframe\n",
       "            width=\"100%\"\n",
       "            height=\"auto\" style=\"80vh\" \"\n",
       "            src=\"https://nbviewer.jupyter.org/gist/tonyfast/e44adc539b3c6d1e7dad4687fb6437a9/_fam-mamba-history.ipynb\"\n",
       "            frameborder=\"0\"\n",
       "            allowfullscreen\n",
       "        ></iframe>\n",
       "        "
      ],
      "text/plain": [
       "<IPython.lib.display.IFrame at 0x7f69a778b5d0>"
      ]
     },
     "metadata": {},
     "output_type": "display_data"
    }
   ],
   "source": [
    "https://nbviewer.jupyter.org/gist/tonyfast/e44adc539b3c6d1e7dad4687fb6437a9/_fam-mamba-history.ipynb"
   ]
  },
  {
   "cell_type": "code",
   "execution_count": 6,
   "metadata": {},
   "outputs": [
    {
     "data": {
      "text/html": [
       "\n",
       "        <iframe\n",
       "            width=\"100%\"\n",
       "            height=\"auto\" style=\"80vh\" \"\n",
       "            src=\"https://nbviewer.jupyter.org/gist/tonyfast/9bc79ddb7200e77394f546bc69e11c6f/conda_forge_history.md.ipynb\"\n",
       "            frameborder=\"0\"\n",
       "            allowfullscreen\n",
       "        ></iframe>\n",
       "        "
      ],
      "text/plain": [
       "<IPython.lib.display.IFrame at 0x7f69a778b9d0>"
      ]
     },
     "metadata": {},
     "output_type": "display_data"
    }
   ],
   "source": [
    "https://nbviewer.jupyter.org/gist/tonyfast/9bc79ddb7200e77394f546bc69e11c6f/conda_forge_history.md.ipynb"
   ]
  },
  {
   "cell_type": "code",
   "execution_count": 7,
   "metadata": {},
   "outputs": [
    {
     "data": {
      "text/markdown": [
       "|   0 | 0                                                               |\n",
       "|----:|:----------------------------------------------------------------|\n",
       "|   1 | [skateparks](./1-skateparks.md.ipynb)                           |\n",
       "|   2 | [demonstration](./2-demonstration.md.ipynb)                     |\n",
       "|   3 | [hyperactive-programming](./3-hyperactive-programming.md.ipynb) |\n",
       "|   4 | [demolition](./4-demolition.md.ipynb)                           |\n",
       "|   5 | [dead-pixels](./5-dead-pixels.md.ipynb)                         |"
      ],
      "text/plain": [
       "<IPython.core.display.Markdown object>"
      ]
     },
     "execution_count": 7,
     "metadata": {},
     "output_type": "execute_result"
    }
   ],
   "source": [
    "    \n",
    "    toc"
   ]
  },
  {
   "cell_type": "code",
   "execution_count": null,
   "metadata": {},
   "outputs": [],
   "source": []
  }
 ],
 "metadata": {
  "kernelspec": {
   "display_name": "pidgy 3",
   "language": "python",
   "name": "pidgy"
  },
  "language_info": {
   "codemirror_mode": {
    "name": "ipython",
    "version": 3
   },
   "file_extension": ".py",
   "mimetype": "text/x-python",
   "name": "python",
   "nbconvert_exporter": "python",
   "pygments_lexer": "ipython3",
   "version": "3.7.7"
  },
  "toc-autonumbering": true,
  "toc-showtags": false
 },
 "nbformat": 4,
 "nbformat_minor": 4
}
