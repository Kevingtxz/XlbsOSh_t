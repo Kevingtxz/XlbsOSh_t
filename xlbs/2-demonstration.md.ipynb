{
 "cells": [
  {
   "cell_type": "code",
   "execution_count": 2,
   "metadata": {},
   "outputs": [
    {
     "data": {
      "text/markdown": [
       "|   0 | 0                                                            |\n",
       "|----:|:-------------------------------------------------------------|\n",
       "|   1 | [skateparks](./1-skateparks.md.ipynb)                        |\n",
       "|   2 | [demonstration](./2-demonstration.ipynb)                     |\n",
       "|   3 | [hyperactive-programming](./3-hyperactive-programming.ipynb) |\n",
       "|   4 | [demolition](./4-demolition.ipynb)                           |\n",
       "|   5 | [dead-pixels](./5-dead-pixels.ipynb)                         |"
      ],
      "text/plain": [
       "<IPython.core.display.Markdown object>"
      ]
     },
     "metadata": {},
     "output_type": "display_data"
    },
    {
     "data": {
      "text/markdown": [
       "|   0 | 0                                                            |\n",
       "|----:|:-------------------------------------------------------------|\n",
       "|   1 | [skateparks](./1-skateparks.md.ipynb)                        |\n",
       "|   2 | [demonstration](./2-demonstration.ipynb)                     |\n",
       "|   3 | [hyperactive-programming](./3-hyperactive-programming.ipynb) |\n",
       "|   4 | [demolition](./4-demolition.ipynb)                           |\n",
       "|   5 | [dead-pixels](./5-dead-pixels.ipynb)                         |"
      ],
      "text/plain": [
       "<IPython.core.display.Markdown object>"
      ]
     },
     "execution_count": 2,
     "metadata": {},
     "output_type": "execute_result"
    },
    {
     "data": {
      "text/markdown": [
       "# Any Given Friday\n",
       "\n",
       "Agenda:\n",
       "    \n",
       "Add links to the shit here.\n",
       "    \n",
       "* @bollwyvl - drawio in lab\n",
       "* @tonyfast - testing and importing notebooks\n",
       "\n",
       "https://gist.github.com/tonyfast/069e0718c3189a2a932b3449d8ec3c34\n",
       "    https://nbviewer.jupyter.org/github/deathbeds/deathbeds.github.io/blob/master/deathbeds/2018-07-31-Testing-notebooks.ipynb\n",
       "        \n",
       "        \n",
       "    from util import *\n",
       "    toc"
      ],
      "text/plain": [
       "<IPython.core.display.Markdown object>"
      ]
     },
     "metadata": {},
     "output_type": "display_data"
    }
   ],
   "source": [
    "# Any Given Friday\n",
    "\n",
    "Agenda:\n",
    "    \n",
    "Add links to the shit here.\n",
    "    \n",
    "* @bollwyvl - drawio in lab\n",
    "* @tonyfast - testing and importing notebooks\n",
    "\n",
    "https://gist.github.com/tonyfast/069e0718c3189a2a932b3449d8ec3c34\n",
    "    https://nbviewer.jupyter.org/github/deathbeds/deathbeds.github.io/blob/master/deathbeds/2018-07-31-Testing-notebooks.ipynb\n",
    "        \n",
    "        \n",
    "    from util import *\n",
    "    toc"
   ]
  },
  {
   "cell_type": "code",
   "execution_count": null,
   "metadata": {},
   "outputs": [],
   "source": []
  }
 ],
 "metadata": {
  "kernelspec": {
   "display_name": "pidgy 3",
   "language": "python",
   "name": "pidgy"
  },
  "language_info": {
   "codemirror_mode": {
    "name": "ipython",
    "version": 3
   },
   "file_extension": ".py",
   "mimetype": "text/x-python",
   "name": "python",
   "nbconvert_exporter": "python",
   "pygments_lexer": "ipython3",
   "version": "3.7.7"
  }
 },
 "nbformat": 4,
 "nbformat_minor": 4
}
