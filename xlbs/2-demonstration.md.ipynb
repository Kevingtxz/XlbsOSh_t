{
 "cells": [
  {
   "cell_type": "code",
   "execution_count": 1,
   "metadata": {
    "jupyter": {
     "source_hidden": true
    }
   },
   "outputs": [
    {
     "data": {
      "text/html": [
       "<style>\n",
       ".jp-mod-presentationMode {\n",
       "    --jp-notebook-padding: 0;\n",
       "}\n",
       ".jp-RenderedHTMLCommon pre code {\n",
       "    opacity: 0.25;\n",
       "}\n",
       ".jp-Placeholder-content .jp-MoreHorizIcon {\n",
       "    background-size: 32px;\n",
       "}\n",
       "</style><style>\n",
       ".jp-mod-presentationMode .jp-SideBar,\n",
       ".jp-mod-presentationMode #jp-top-panel {\n",
       "    opacity: 0.0;\n",
       "    transition: all 0.2s;\n",
       "}\n",
       ".jp-mod-presentationMode .jp-SideBar:hover,\n",
       ".jp-mod-presentationMode #jp-top-panel:hover {\n",
       "    opacity: 0.9;\n",
       "    transition: all 0.2s;\n",
       "}</style><style>\n",
       ".jp-mod-presentationMode.jp-ApplicationShell,\n",
       ".jp-mod-presentationMode .p-TabBar-content{\n",
       "    background-color: var(--jp-layout-color0);\n",
       "}\n",
       "</style><style>\n",
       ".jp-mod-presentationMode .p-DockPanel-widget,\n",
       ".jp-mod-presentationMode #jp-left-stack, \n",
       ".jp-mod-presentationMode #jp-bottom-panel{\n",
       "    border-color: transparent;\n",
       "}\n",
       ".jp-mod-presentationMode .jp-Toolbar-item,\n",
       ".jp-mod-presentationMode .jp-Toolbar, \n",
       ".jp-mod-presentationMode #jp-bottom-panel {\n",
       "    opacity: 0.1;\n",
       "    transition: all 0.2s;\n",
       "}\n",
       ".jp-mod-presentationMode .jp-Toolbar-item:hover,\n",
       ".jp-mod-presentationMode .jp-Toolbar:hover, \n",
       ".jp-mod-presentationMode #jp-bottom-panel:hover {\n",
       "    opacity: 0.9;\n",
       "    transition: all 0.2s;\n",
       "}\n",
       "\n",
       ".jp-mod-presentationMode .jp-InputArea {\n",
       "    flex-direction: column;\n",
       "}\n",
       "\n",
       "</style><style>\n",
       ".jp-mod-presentationMode .jp-Notebook .jp-Cell .jp-InputPrompt, \n",
       ".jp-mod-presentationMode .jp-Notebook .jp-Cell .jp-OutputPrompt {\n",
       "    flex: 0 0 2rem !important;\n",
       "    opacity: 0;\n",
       "}\n",
       ".jp-mod-presentationMode .jp-Notebook .jp-Cell.jp-mod-active .jp-OutputPrompt,\n",
       ".jp-mod-presentationMode .jp-Notebook .jp-Cell.jp-mod-active .jp-OutputPrompt {\n",
       "    opacity: 0.5;\n",
       "}\n",
       ".jp-mod-presentationMode .jp-Notebook .jp-Cell .jp-InputPrompt, \n",
       ".jp-mod-presentationMode .jp-Notebook .jp-Cell .jp-OutputPrompt\n",
       "\n",
       ".jp-mod-presentationMode hr {\n",
       "    opacity: 0.1;\n",
       "}\n",
       "</style>\n",
       "<style>\n",
       ".jp-mod-presentationMode #jp-main-status-bar {\n",
       "    opacity: 0.06;\n",
       "    transition: all 0.2s;\n",
       "}\n",
       ".jp-mod-presentationMode #jp-main-status-bar:hover {\n",
       "    opacity: 0.8;\n",
       "    transition: all 0.2s;\n",
       "}\n",
       "</style>\n",
       "\n",
       "<style>\n",
       ".jp-mod-presentationMode .jp-TableOfContents header:not(:hover),\n",
       ".jp-mod-presentationMode .jp-TableOfContents .toc-toolbar:not(:hover) {\n",
       "    opacity: 0;\n",
       "}\n",
       ".jp-mod-presentationMode .jp-TableOfContents,\n",
       ".jp-mod-presentationMode .jp-TableOfContents-content {\n",
       "    background-color: transparent;\n",
       "}\n",
       "</style>\n",
       "    \n",
       "<style>\n",
       ".jp-mod-presentationMode  .jp-Cell-outputArea {\n",
       "    display: flex;\n",
       "    flex-direction: row;\n",
       "    flex-wrap: wrap;\n",
       "    justify-content: space-around;\n",
       "}\n",
       ".jp-mod-presentationMode  .jp-OutputArea-child {\n",
       "    padding: var(--jp-notebook-padding);\n",
       "    flex-basis: 50%;\n",
       "    flex-grow: 1;\n",
       "    flex-shrink: 1;\n",
       "}\n",
       ".jp-mod-presentationMode .jp-OutputArea-output img, \n",
       ".jp-mod-presentationMode .jp-OutputArea-output iframe , \n",
       ".jp-mod-presentationMode .jp-OutputArea-output svg {\n",
       "    filter: grayscale(100%)  invert(0%);\n",
       "    transition: all 2s;\n",
       "    width: 100%;\n",
       "    max-height: 80vh;\n",
       "}\n",
       "\n",
       ".jp-mod-presentationMode .jp-OutputArea-output img:hover, \n",
       ".jp-mod-presentationMode .jp-OutputArea-output iframe:hover , \n",
       ".jp-mod-presentationMode .jp-OutputArea-output svg:hover {\n",
       "    filter: grayscale(100%)  invert(100%);\n",
       "    transition: all 800ms;\n",
       "}\n",
       "</style>\n",
       "    "
      ],
      "text/plain": [
       "<IPython.core.display.HTML object>"
      ]
     },
     "metadata": {},
     "output_type": "display_data"
    },
    {
     "data": {
      "text/plain": [
       "<module '__style__' from '/Users/tonyfast/qhub-jupyterhub-theme/jupyterhub/XlbsOSh_t/xlbs/__style__.md.ipynb'>"
      ]
     },
     "metadata": {},
     "output_type": "display_data"
    },
    {
     "data": {
      "text/markdown": [
       "|   0 | 0                                                               |\n",
       "|----:|:----------------------------------------------------------------|\n",
       "|   1 | [skateparks](./1-skateparks.md.ipynb)                           |\n",
       "|   2 | [demonstration](./2-demonstration.md.ipynb)                     |\n",
       "|   3 | [hyperactive-programming](./3-hyperactive-programming.md.ipynb) |\n",
       "|   4 | [demolition](./4-demolition.md.ipynb)                           |\n",
       "|   5 | [dead-pixels](./5-dead-pixels.md.ipynb)                         |"
      ],
      "text/plain": [
       "<IPython.core.display.Markdown object>"
      ]
     },
     "execution_count": 1,
     "metadata": {},
     "output_type": "execute_result"
    },
    {
     "data": {
      "text/markdown": [
       "# demonstrations\n",
       "\n",
       "    from util import *\n",
       "    toc"
      ],
      "text/plain": [
       "<IPython.core.display.Markdown object>"
      ]
     },
     "metadata": {},
     "output_type": "display_data"
    }
   ],
   "source": [
    "# demonstrations\n",
    "\n",
    "    from util import *\n",
    "    toc"
   ]
  },
  {
   "cell_type": "code",
   "execution_count": 2,
   "metadata": {
    "jupyter": {
     "source_hidden": true
    }
   },
   "outputs": [
    {
     "data": {
      "text/markdown": [
       "## Any given ~~friday~~<ins>tuesday</ins>\n",
       "\n",
       "### Host a demo day\n",
       "\n",
       "## Promote progression"
      ],
      "text/plain": [
       "<IPython.core.display.Markdown object>"
      ]
     },
     "metadata": {},
     "output_type": "display_data"
    }
   ],
   "source": [
    "## Any given ~~friday~~<ins>tuesday</ins>\n",
    "\n",
    "### Host a demo day\n",
    "\n",
    "## Promote progression"
   ]
  },
  {
   "cell_type": "code",
   "execution_count": 3,
   "metadata": {
    "jupyter": {
     "source_hidden": true
    }
   },
   "outputs": [
    {
     "data": {
      "text/markdown": [
       "## @bollwyvl - drawio in lab\n",
       "### [JupyterLab Drawio fork][jdio]\n",
       "[jdio]: https://github.com/deathbeds/jupyterlab-drawio\n",
       "\n",
       "![](./img/drawio-shot.png)"
      ],
      "text/plain": [
       "<IPython.core.display.Markdown object>"
      ]
     },
     "metadata": {},
     "output_type": "display_data"
    }
   ],
   "source": [
    "## @bollwyvl - drawio in lab\n",
    "### [JupyterLab Drawio fork][jdio]\n",
    "[jdio]: https://github.com/deathbeds/jupyterlab-drawio\n",
    "\n",
    "![](./img/drawio-shot.png)"
   ]
  },
  {
   "cell_type": "code",
   "execution_count": 4,
   "metadata": {
    "jupyter": {
     "source_hidden": true
    }
   },
   "outputs": [
    {
     "data": {
      "text/markdown": [
       "## @tonyfast - testing and importing notebooks for the [deathbeds blog]\n",
       "\n",
       "[deathbeds blog]: https://nbviewer.jupyter.org/github/deathbeds/deathbeds.github.io/tree/master/deathbeds/"
      ],
      "text/plain": [
       "<IPython.core.display.Markdown object>"
      ]
     },
     "metadata": {},
     "output_type": "display_data"
    }
   ],
   "source": [
    "## @tonyfast - testing and importing notebooks for the [deathbeds blog]\n",
    "\n",
    "[deathbeds blog]: https://nbviewer.jupyter.org/github/deathbeds/deathbeds.github.io/tree/master/deathbeds/"
   ]
  },
  {
   "cell_type": "code",
   "execution_count": 5,
   "metadata": {
    "jupyter": {
     "source_hidden": true
    }
   },
   "outputs": [
    {
     "data": {
      "text/html": [
       "\n",
       "        <iframe\n",
       "            width=\"100%\"\n",
       "            height=\"80vh\"\n",
       "            src=\"https://nbviewer.jupyter.org/github/deathbeds/deathbeds.github.io/blob/master/deathbeds/2018-07-31-Testing-notebooks.ipynb\"\n",
       "            frameborder=\"0\"\n",
       "            allowfullscreen\n",
       "        ></iframe>\n",
       "        "
      ],
      "text/plain": [
       "<IPython.lib.display.IFrame at 0x118b995c0>"
      ]
     },
     "metadata": {},
     "output_type": "display_data"
    }
   ],
   "source": [
    "https://nbviewer.jupyter.org/github/deathbeds/deathbeds.github.io/blob/master/deathbeds/2018-07-31-Testing-notebooks.ipynb"
   ]
  },
  {
   "cell_type": "code",
   "execution_count": 6,
   "metadata": {
    "jupyter": {
     "source_hidden": true
    }
   },
   "outputs": [
    {
     "data": {
      "text/markdown": [
       "# Properly handling different test cases at the same time.\n",
       "\n",
       "    import unittest, doctest, re, inspect, typing, types, contextlib\n",
       "\n",
       "## Sample test methods.\n",
       "    \n",
       "    def test_me(): assert True\n",
       "\n",
       "    class TestClass(unittest.TestCase):\n",
       "        def test_this(self): assert False\n",
       "\n",
       "## Methods\n",
       "\n",
       "### Combine `unittest and doctest` suites.\n",
       "\n",
       "    def make_test_suite(*objects: typing.Union[\n",
       "        unittest.TestCase, types.FunctionType, str\n",
       "    ]) -> unittest.TestSuite:\n",
       "        \n",
       "Create a test suite from a few different objects.\n",
       "        \n",
       "        suite, doctest_suite = unittest.TestSuite(), doctest.DocTestSuite()\n",
       "        suite.addTest(doctest_suite)\n",
       "        for object in objects:\n",
       "            if isinstance(object, type) and issubclass(object, unittest.TestCase):\n",
       "                \n",
       "Load `unittest.TestCase` when that type is encountered.\n",
       "                \n",
       "                suite.addTest(unittest.defaultTestLoader.loadTestsFromTestCase(object))\n",
       "            elif isinstance(object, str):\n",
       "                \n",
       "In the case of strings we'll use the `doctest` module to find standard doctests and inline markdown code.\n",
       "                \n",
       "                doctest_suite.addTest(doctest.DocTestCase(doctest.DocTestParser().get_doctest(object, globals(), __name__, __name__, 0)))\n",
       "                doctest_suite.addTest(doctest.DocTestCase(InlineDoctestParser().get_doctest(object, globals(), __name__, __name__, 0), checker=NullOutputCheck))\n",
       "            elif inspect.isfunction(object): \n",
       "                \n",
       "When a function is encountered create a test case from that.\n",
       "                \n",
       "                suite.addTest(unittest.FunctionTestCase(object))\n",
       "        return suite\n",
       "        \n",
       "### Run the main test suite\n",
       "\n",
       "    def run(suite: unittest.TestCase) -> unittest.TestResult:\n",
       "\n",
       "`run` a test suite likely created from make_test_suite.\n",
       "        \n",
       "        result = unittest.TestResult(); suite.run(result)\n",
       "        if result.failures:\n",
       "            sys.stderr.writelines((str(result) + '\\n' + '\\n'.join(msg for text, msg in result.failures)).splitlines(True))\n",
       "        return result\n",
       "\n",
       "    class NullOutputCheck(doctest.OutputChecker):\n",
       "        \n",
       "A compatability tool for tests as long as they don't return an exception.\n",
       "        \n",
       "        def check_output(self, *e): return True\n",
       "\n",
       "### A `doctest` parser for inline code objects.    \n",
       "    \n",
       "    class InlineDoctestParser(doctest.DocTestParser):\n",
       "        \n",
       "In `\"pidgy\"`, we want all code to compute.  Specifically we add the ability to run\n",
       "inline markdown code objects. as tests.\n",
       "        \n",
       "        _EXAMPLE_RE = re.compile(r'`(?P<indent>\\s{0})'\n",
       "    r'(?P<source>[^`].*?)'\n",
       "    r'`')\n",
       "        def _parse_example(self, m, name, lineno): return m.group('source'), None, \"...\", None\n",
       "\n",
       "## Running the examples.\n",
       "\n",
       "Running some made up tests.    \n",
       "    \n",
       "    \n",
       "    result = run(make_test_suite(\"\"\"What is the `range` \n",
       "    \n",
       "    >>> 10\n",
       "    10\n",
       "    \n",
       "    \"\"\", test_me, TestClass))\n",
       "   \n",
       "\n",
       "## Expected output.\n",
       "\n",
       "```console\n",
       "<unittest.result.TestResult run=4 errors=0 failures=1>\n",
       "Traceback (most recent call last):\n",
       "  File \"<ipython-input-31-5ae775417371>\", line 10, in test_this\n",
       "    def test_this(self): assert False\n",
       "AssertionError\n",
       "```"
      ],
      "text/plain": [
       "<IPython.core.display.Markdown object>"
      ]
     },
     "execution_count": 6,
     "metadata": {},
     "output_type": "execute_result"
    }
   ],
   "source": [
    "    \n",
    "    λ['requests.get'].attrgetter('text').Markdown()(\n",
    "        \"https://gist.githubusercontent.com/tonyfast/069e0718c3189a2a932b3449d8ec3c34/raw/7f182d9d7d3289b72198ddbca4b59a1f0c92e81c/2020-02-23-properly-executing-different-test-options.md\")"
   ]
  },
  {
   "cell_type": "code",
   "execution_count": 7,
   "metadata": {
    "jupyter": {
     "source_hidden": true
    }
   },
   "outputs": [
    {
     "data": {
      "text/markdown": [
       "[Properly handling different test cases at the same time.](https://gist.github.com/tonyfast/069e0718c3189a2a932b3449d8ec3c34)"
      ],
      "text/plain": [
       "<IPython.core.display.Markdown object>"
      ]
     },
     "metadata": {},
     "output_type": "display_data"
    }
   ],
   "source": [
    "[Properly handling different test cases at the same time.](https://gist.github.com/tonyfast/069e0718c3189a2a932b3449d8ec3c34)"
   ]
  },
  {
   "cell_type": "code",
   "execution_count": null,
   "metadata": {
    "jupyter": {
     "source_hidden": true
    }
   },
   "outputs": [],
   "source": []
  }
 ],
 "metadata": {
  "kernelspec": {
   "display_name": "pidgy 3",
   "language": "python",
   "name": "pidgy"
  },
  "language_info": {
   "codemirror_mode": {
    "name": "ipython",
    "version": 3
   },
   "file_extension": ".py",
   "mimetype": "text/x-python",
   "name": "python",
   "nbconvert_exporter": "python",
   "pygments_lexer": "ipython3",
   "version": "3.7.7"
  }
 },
 "nbformat": 4,
 "nbformat_minor": 4
}
