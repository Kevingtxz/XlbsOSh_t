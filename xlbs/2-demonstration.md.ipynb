{
 "cells": [
  {
   "cell_type": "code",
   "execution_count": 26,
   "metadata": {},
   "outputs": [
    {
     "data": {
      "text/markdown": [
       "|   0 | 0                                                               |\n",
       "|----:|:----------------------------------------------------------------|\n",
       "|   1 | [skateparks](./1-skateparks.md.ipynb)                           |\n",
       "|   2 | [demonstration](./2-demonstration.md.ipynb)                     |\n",
       "|   3 | [hyperactive-programming](./3-hyperactive-programming.md.ipynb) |\n",
       "|   4 | [demolition](./4-demolition.md.ipynb)                           |\n",
       "|   5 | [dead-pixels](./5-dead-pixels.md.ipynb)                         |"
      ],
      "text/plain": [
       "<IPython.core.display.Markdown object>"
      ]
     },
     "execution_count": 26,
     "metadata": {},
     "output_type": "execute_result"
    },
    {
     "data": {
      "text/markdown": [
       "# demonstration\n",
       "\n",
       "    from util import *\n",
       "    toc"
      ],
      "text/plain": [
       "<IPython.core.display.Markdown object>"
      ]
     },
     "metadata": {},
     "output_type": "display_data"
    }
   ],
   "source": [
    "# demonstration\n",
    "\n",
    "    from util import *\n",
    "    toc"
   ]
  },
  {
   "cell_type": "code",
   "execution_count": 27,
   "metadata": {},
   "outputs": [
    {
     "data": {
      "text/markdown": [
       "## @bollwyvl - drawio in lab\n",
       "### [JupyterLab Drawio fork][jdio]\n",
       "[jdio]: https://github.com/deathbeds/jupyterlab-drawio\n",
       "\n",
       "![](./img/drawio-shot.png)"
      ],
      "text/plain": [
       "<IPython.core.display.Markdown object>"
      ]
     },
     "metadata": {},
     "output_type": "display_data"
    }
   ],
   "source": [
    "## @bollwyvl - drawio in lab\n",
    "### [JupyterLab Drawio fork][jdio]\n",
    "[jdio]: https://github.com/deathbeds/jupyterlab-drawio\n",
    "\n",
    "![](./img/drawio-shot.png)"
   ]
  },
  {
   "cell_type": "code",
   "execution_count": 28,
   "metadata": {},
   "outputs": [
    {
     "data": {
      "text/markdown": [
       "## @tonyfast - testing and importing notebooks\n",
       "\n",
       "https://gist.github.com/tonyfast/069e0718c3189a2a932b3449d8ec3c34"
      ],
      "text/plain": [
       "<IPython.core.display.Markdown object>"
      ]
     },
     "metadata": {},
     "output_type": "display_data"
    }
   ],
   "source": [
    "## @tonyfast - testing and importing notebooks\n",
    "\n",
    "https://gist.github.com/tonyfast/069e0718c3189a2a932b3449d8ec3c34"
   ]
  },
  {
   "cell_type": "code",
   "execution_count": 29,
   "metadata": {},
   "outputs": [
    {
     "data": {
      "text/html": [
       "\n",
       "        <iframe\n",
       "            width=\"100%\"\n",
       "            height=\"auto\" style=\"80vh\" \"\n",
       "            src=\"https://nbviewer.jupyter.org/github/deathbeds/deathbeds.github.io/blob/master/deathbeds/2018-07-31-Testing-notebooks.ipynb\"\n",
       "            frameborder=\"0\"\n",
       "            allowfullscreen\n",
       "        ></iframe>\n",
       "        "
      ],
      "text/plain": [
       "<IPython.lib.display.IFrame at 0x7f94858e5950>"
      ]
     },
     "metadata": {},
     "output_type": "display_data"
    }
   ],
   "source": [
    "https://nbviewer.jupyter.org/github/deathbeds/deathbeds.github.io/blob/master/deathbeds/2018-07-31-Testing-notebooks.ipynb"
   ]
  },
  {
   "cell_type": "code",
   "execution_count": null,
   "metadata": {},
   "outputs": [],
   "source": []
  }
 ],
 "metadata": {
  "kernelspec": {
   "display_name": "pidgy 3",
   "language": "python",
   "name": "pidgy"
  },
  "language_info": {
   "codemirror_mode": {
    "name": "ipython",
    "version": 3
   },
   "file_extension": ".py",
   "mimetype": "text/x-python",
   "name": "python",
   "nbconvert_exporter": "python",
   "pygments_lexer": "ipython3",
   "version": "3.7.7"
  }
 },
 "nbformat": 4,
 "nbformat_minor": 4
}
